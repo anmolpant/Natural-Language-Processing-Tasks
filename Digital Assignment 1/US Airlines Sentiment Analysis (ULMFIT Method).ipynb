{
 "cells": [
  {
   "cell_type": "markdown",
   "metadata": {},
   "source": [
    "# **Fellowship.ai Challenge**"
   ]
  },
  {
   "cell_type": "markdown",
   "metadata": {},
   "source": [
    "* **Name**: Anmol Pant\n",
    "* **Email** : anmolpant@gmail.com\n",
    "* **Region**: ASIA - IST"
   ]
  },
  {
   "cell_type": "markdown",
   "metadata": {},
   "source": [
    "## Topic Chosen - ULMFiT Sentiment : Apply a supervised or semi-supervised ULMFiT model to Twitter US Airlines Sentiment \n",
    "* Environment Used for notebook - Kaggle Kernels\n",
    "* Dataset Used : twitter-airline-sentiment on kaggle (https://www.kaggle.com/crowdflower/twitter-airline-sentiment#Tweets.csv)\n",
    "* Method used for sentiment analysis: ULMFit method (making use of RNNs and LSTMs)"
   ]
  },
  {
   "cell_type": "code",
   "execution_count": 1,
   "metadata": {
    "_cell_guid": "b1076dfc-b9ad-4769-8c92-a6c4dae69d19",
    "_uuid": "8f2839f25d086af736a60e9eeb907d3b93b6e0e5"
   },
   "outputs": [
    {
     "name": "stdout",
     "output_type": "stream",
     "text": [
      "/kaggle/input/twitter-airline-sentiment/database.sqlite\n",
      "/kaggle/input/twitter-airline-sentiment/Tweets.csv\n"
     ]
    }
   ],
   "source": [
    "# This Python 3 environment comes with many helpful analytics libraries installed\n",
    "# It is defined by the kaggle/python Docker image: https://github.com/kaggle/docker-python\n",
    "# For example, here's several helpful packages to load\n",
    "\n",
    "import numpy as np # linear algebra\n",
    "import pandas as pd # data processing, CSV file I/O (e.g. pd.read_csv)\n",
    "\n",
    "# Input data files are available in the read-only \"../input/\" directory\n",
    "# For example, running this (by clicking run or pressing Shift+Enter) will list all files under the input directory\n",
    "\n",
    "import os\n",
    "for dirname, _, filenames in os.walk('/kaggle/input'):\n",
    "    for filename in filenames:\n",
    "        print(os.path.join(dirname, filename))\n",
    "\n",
    "# You can write up to 5GB to the current directory (/kaggle/working/) that gets preserved as output when you create a version using \"Save & Run All\" \n",
    "# You can also write temporary files to /kaggle/temp/, but they won't be saved outside of the current session"
   ]
  },
  {
   "cell_type": "markdown",
   "metadata": {},
   "source": [
    "## **Importing dependencies**"
   ]
  },
  {
   "cell_type": "code",
   "execution_count": 2,
   "metadata": {
    "_cell_guid": "79c7e3d0-c299-4dcb-8224-4455121ee9b0",
    "_uuid": "d629ff2d2480ee46fbb7e2d37f6b5fab8052498a"
   },
   "outputs": [
    {
     "name": "stdout",
     "output_type": "stream",
     "text": [
      "/kaggle/input/twitter-airline-sentiment/database.sqlite\n",
      "/kaggle/input/twitter-airline-sentiment/Tweets.csv\n"
     ]
    }
   ],
   "source": [
    "#utilities for data processing and algebra\n",
    "import numpy as np \n",
    "import pandas as pd \n",
    "\n",
    "#for specialized container datatypes\n",
    "import collections\n",
    "\n",
    "#for plotting and data visualization\n",
    "import seaborn as sns\n",
    "import matplotlib.pyplot as plt\n",
    "%matplotlib inline\n",
    "\n",
    "#for feature preprocessing\n",
    "import re\n",
    "\n",
    "#sklearn for machine learning\n",
    "from sklearn.model_selection import train_test_split\n",
    "from sklearn.metrics import confusion_matrix, accuracy_score\n",
    "from sklearn.utils.multiclass import unique_labels\n",
    "\n",
    "#extension to reload modules before executing user code\n",
    "%reload_ext autoreload\n",
    "%autoreload 2\n",
    "\n",
    "#importing os to analyse and organize the directory structure\n",
    "import os\n",
    "for dirname, _, filenames in os.walk('/kaggle/input'):\n",
    "    for filename in filenames:\n",
    "        print(os.path.join(dirname, filename))"
   ]
  },
  {
   "cell_type": "markdown",
   "metadata": {},
   "source": [
    "## **Importing fastai for Natural Language Processing and ULMFiT**"
   ]
  },
  {
   "cell_type": "code",
   "execution_count": 3,
   "metadata": {},
   "outputs": [],
   "source": [
    "from fastai import *\n",
    "from fastai.text import *"
   ]
  },
  {
   "cell_type": "markdown",
   "metadata": {},
   "source": [
    "## **Importing utilities for collecting/checking fastai user environment**"
   ]
  },
  {
   "cell_type": "code",
   "execution_count": 4,
   "metadata": {},
   "outputs": [
    {
     "name": "stdout",
     "output_type": "stream",
     "text": [
      "\n",
      "\n",
      "```text\n",
      "=== Software === \n",
      "python        : 3.7.6\n",
      "fastai        : 1.0.61\n",
      "fastprogress  : 0.2.3\n",
      "torch         : 1.5.1\n",
      "nvidia driver : 418.67\n",
      "torch cuda    : 10.1 / is available\n",
      "torch cudnn   : 7603 / is enabled\n",
      "\n",
      "=== Hardware === \n",
      "nvidia gpus   : 1\n",
      "torch devices : 1\n",
      "  - gpu0      : 16280MB | Tesla P100-PCIE-16GB\n",
      "\n",
      "=== Environment === \n",
      "platform      : Linux-4.19.112+-x86_64-with-debian-buster-sid\n",
      "distro        : #1 SMP Sat Jun 13 11:04:33 PDT 2020\n",
      "conda env     : Unknown\n",
      "python        : /opt/conda/bin/python3.7\n",
      "sys.path      : /kaggle/working\n",
      "/kaggle/lib/kagglegym\n",
      "/kaggle/lib\n",
      "/opt/conda/lib/python37.zip\n",
      "/opt/conda/lib/python3.7\n",
      "/opt/conda/lib/python3.7/lib-dynload\n",
      "\n",
      "/root/.local/lib/python3.7/site-packages\n",
      "/opt/conda/lib/python3.7/site-packages\n",
      "/src/bq-helper\n",
      "/opt/conda/lib/python3.7/site-packages/IPython/extensions\n",
      "/root/.ipython\n",
      "```\n",
      "\n",
      "Please make sure to include opening/closing ``` when you paste into forums/github to make the reports appear formatted as code sections.\n",
      "\n",
      "Optional package(s) to enhance the diagnostics can be installed with:\n",
      "pip install distro\n",
      "Once installed, re-run this utility to get the additional information\n"
     ]
    }
   ],
   "source": [
    "import fastai.utils.collect_env\n",
    "fastai.utils.collect_env.show_install()"
   ]
  },
  {
   "cell_type": "markdown",
   "metadata": {},
   "source": [
    "# **Data Representation and pre-processing**"
   ]
  },
  {
   "cell_type": "code",
   "execution_count": 5,
   "metadata": {},
   "outputs": [
    {
     "data": {
      "text/plain": [
       "[PosixPath('../input/twitter-airline-sentiment/database.sqlite'),\n",
       " PosixPath('../input/twitter-airline-sentiment/Tweets.csv')]"
      ]
     },
     "execution_count": 5,
     "metadata": {},
     "output_type": "execute_result"
    }
   ],
   "source": [
    "path = Path('../input/twitter-airline-sentiment/')\n",
    "file_name = 'Tweets.csv'\n",
    "path.ls()"
   ]
  },
  {
   "cell_type": "markdown",
   "metadata": {},
   "source": [
    "## **Shuffling & reading the data into a pandas dataframe**"
   ]
  },
  {
   "cell_type": "code",
   "execution_count": 6,
   "metadata": {},
   "outputs": [
    {
     "data": {
      "text/html": [
       "<div>\n",
       "<style scoped>\n",
       "    .dataframe tbody tr th:only-of-type {\n",
       "        vertical-align: middle;\n",
       "    }\n",
       "\n",
       "    .dataframe tbody tr th {\n",
       "        vertical-align: top;\n",
       "    }\n",
       "\n",
       "    .dataframe thead th {\n",
       "        text-align: right;\n",
       "    }\n",
       "</style>\n",
       "<table border=\"1\" class=\"dataframe\">\n",
       "  <thead>\n",
       "    <tr style=\"text-align: right;\">\n",
       "      <th></th>\n",
       "      <th>tweet_id</th>\n",
       "      <th>airline_sentiment</th>\n",
       "      <th>airline_sentiment_confidence</th>\n",
       "      <th>negativereason</th>\n",
       "      <th>negativereason_confidence</th>\n",
       "      <th>airline</th>\n",
       "      <th>airline_sentiment_gold</th>\n",
       "      <th>name</th>\n",
       "      <th>negativereason_gold</th>\n",
       "      <th>retweet_count</th>\n",
       "      <th>text</th>\n",
       "      <th>tweet_coord</th>\n",
       "      <th>tweet_created</th>\n",
       "      <th>tweet_location</th>\n",
       "      <th>user_timezone</th>\n",
       "    </tr>\n",
       "  </thead>\n",
       "  <tbody>\n",
       "    <tr>\n",
       "      <th>6457</th>\n",
       "      <td>567838174816395264</td>\n",
       "      <td>negative</td>\n",
       "      <td>1.0</td>\n",
       "      <td>Can't Tell</td>\n",
       "      <td>1.0</td>\n",
       "      <td>Southwest</td>\n",
       "      <td>NaN</td>\n",
       "      <td>TRomano22</td>\n",
       "      <td>NaN</td>\n",
       "      <td>0</td>\n",
       "      <td>@SouthwestAir Not your finest moment in Boston...</td>\n",
       "      <td>NaN</td>\n",
       "      <td>2015-02-17 16:09:05 -0800</td>\n",
       "      <td>NaN</td>\n",
       "      <td>Eastern Time (US &amp; Canada)</td>\n",
       "    </tr>\n",
       "    <tr>\n",
       "      <th>3263</th>\n",
       "      <td>568564485457252352</td>\n",
       "      <td>negative</td>\n",
       "      <td>1.0</td>\n",
       "      <td>longlines</td>\n",
       "      <td>1.0</td>\n",
       "      <td>United</td>\n",
       "      <td>NaN</td>\n",
       "      <td>dmb41shows</td>\n",
       "      <td>NaN</td>\n",
       "      <td>0</td>\n",
       "      <td>@united still sitting here waiting for a plane...</td>\n",
       "      <td>NaN</td>\n",
       "      <td>2015-02-19 16:15:11 -0800</td>\n",
       "      <td>Pursuit of Happiness</td>\n",
       "      <td>Hawaii</td>\n",
       "    </tr>\n",
       "    <tr>\n",
       "      <th>10232</th>\n",
       "      <td>569472446954389504</td>\n",
       "      <td>negative</td>\n",
       "      <td>1.0</td>\n",
       "      <td>Cancelled Flight</td>\n",
       "      <td>1.0</td>\n",
       "      <td>US Airways</td>\n",
       "      <td>NaN</td>\n",
       "      <td>JulesMonacelli</td>\n",
       "      <td>NaN</td>\n",
       "      <td>0</td>\n",
       "      <td>@USAirways not happy!! Trying to get home on C...</td>\n",
       "      <td>NaN</td>\n",
       "      <td>2015-02-22 04:23:06 -0800</td>\n",
       "      <td>Rochester, NY</td>\n",
       "      <td>Eastern Time (US &amp; Canada)</td>\n",
       "    </tr>\n",
       "    <tr>\n",
       "      <th>14481</th>\n",
       "      <td>569608733321498627</td>\n",
       "      <td>positive</td>\n",
       "      <td>1.0</td>\n",
       "      <td>NaN</td>\n",
       "      <td>NaN</td>\n",
       "      <td>American</td>\n",
       "      <td>NaN</td>\n",
       "      <td>JuliaWallClarke</td>\n",
       "      <td>NaN</td>\n",
       "      <td>0</td>\n",
       "      <td>@AmericanAir appreciate update. Have also appr...</td>\n",
       "      <td>[40.6474324, -73.7936881]</td>\n",
       "      <td>2015-02-22 13:24:39 -0800</td>\n",
       "      <td>UK / Canada / etc</td>\n",
       "      <td>Atlantic Time (Canada)</td>\n",
       "    </tr>\n",
       "    <tr>\n",
       "      <th>10420</th>\n",
       "      <td>569319723889876993</td>\n",
       "      <td>negative</td>\n",
       "      <td>1.0</td>\n",
       "      <td>Cancelled Flight</td>\n",
       "      <td>1.0</td>\n",
       "      <td>US Airways</td>\n",
       "      <td>NaN</td>\n",
       "      <td>T_Hans13</td>\n",
       "      <td>NaN</td>\n",
       "      <td>0</td>\n",
       "      <td>@USAirways Bravo handling MSP to PHX # 2023 to...</td>\n",
       "      <td>NaN</td>\n",
       "      <td>2015-02-21 18:16:14 -0800</td>\n",
       "      <td>Mabel, MN</td>\n",
       "      <td>NaN</td>\n",
       "    </tr>\n",
       "  </tbody>\n",
       "</table>\n",
       "</div>"
      ],
      "text/plain": [
       "                 tweet_id airline_sentiment  airline_sentiment_confidence  \\\n",
       "6457   567838174816395264          negative                           1.0   \n",
       "3263   568564485457252352          negative                           1.0   \n",
       "10232  569472446954389504          negative                           1.0   \n",
       "14481  569608733321498627          positive                           1.0   \n",
       "10420  569319723889876993          negative                           1.0   \n",
       "\n",
       "         negativereason  negativereason_confidence     airline  \\\n",
       "6457         Can't Tell                        1.0   Southwest   \n",
       "3263          longlines                        1.0      United   \n",
       "10232  Cancelled Flight                        1.0  US Airways   \n",
       "14481               NaN                        NaN    American   \n",
       "10420  Cancelled Flight                        1.0  US Airways   \n",
       "\n",
       "      airline_sentiment_gold             name negativereason_gold  \\\n",
       "6457                     NaN        TRomano22                 NaN   \n",
       "3263                     NaN       dmb41shows                 NaN   \n",
       "10232                    NaN   JulesMonacelli                 NaN   \n",
       "14481                    NaN  JuliaWallClarke                 NaN   \n",
       "10420                    NaN         T_Hans13                 NaN   \n",
       "\n",
       "       retweet_count                                               text  \\\n",
       "6457               0  @SouthwestAir Not your finest moment in Boston...   \n",
       "3263               0  @united still sitting here waiting for a plane...   \n",
       "10232              0  @USAirways not happy!! Trying to get home on C...   \n",
       "14481              0  @AmericanAir appreciate update. Have also appr...   \n",
       "10420              0  @USAirways Bravo handling MSP to PHX # 2023 to...   \n",
       "\n",
       "                     tweet_coord              tweet_created  \\\n",
       "6457                         NaN  2015-02-17 16:09:05 -0800   \n",
       "3263                         NaN  2015-02-19 16:15:11 -0800   \n",
       "10232                        NaN  2015-02-22 04:23:06 -0800   \n",
       "14481  [40.6474324, -73.7936881]  2015-02-22 13:24:39 -0800   \n",
       "10420                        NaN  2015-02-21 18:16:14 -0800   \n",
       "\n",
       "             tweet_location               user_timezone  \n",
       "6457                    NaN  Eastern Time (US & Canada)  \n",
       "3263   Pursuit of Happiness                      Hawaii  \n",
       "10232         Rochester, NY  Eastern Time (US & Canada)  \n",
       "14481     UK / Canada / etc      Atlantic Time (Canada)  \n",
       "10420             Mabel, MN                         NaN  "
      ]
     },
     "execution_count": 6,
     "metadata": {},
     "output_type": "execute_result"
    }
   ],
   "source": [
    "file_path = path / file_name\n",
    "df_tweets = pd.read_csv(file_path)\n",
    "df_tweets = df_tweets.reindex(np.random.permutation(df_tweets.index)) \n",
    "df_tweets.head()"
   ]
  },
  {
   "cell_type": "markdown",
   "metadata": {},
   "source": [
    "## **analysing features and plotting relevant ones**"
   ]
  },
  {
   "cell_type": "code",
   "execution_count": 7,
   "metadata": {},
   "outputs": [
    {
     "name": "stdout",
     "output_type": "stream",
     "text": [
      "<class 'pandas.core.frame.DataFrame'>\n",
      "Int64Index: 14640 entries, 6457 to 6176\n",
      "Data columns (total 15 columns):\n",
      " #   Column                        Non-Null Count  Dtype  \n",
      "---  ------                        --------------  -----  \n",
      " 0   tweet_id                      14640 non-null  int64  \n",
      " 1   airline_sentiment             14640 non-null  object \n",
      " 2   airline_sentiment_confidence  14640 non-null  float64\n",
      " 3   negativereason                9178 non-null   object \n",
      " 4   negativereason_confidence     10522 non-null  float64\n",
      " 5   airline                       14640 non-null  object \n",
      " 6   airline_sentiment_gold        40 non-null     object \n",
      " 7   name                          14640 non-null  object \n",
      " 8   negativereason_gold           32 non-null     object \n",
      " 9   retweet_count                 14640 non-null  int64  \n",
      " 10  text                          14640 non-null  object \n",
      " 11  tweet_coord                   1019 non-null   object \n",
      " 12  tweet_created                 14640 non-null  object \n",
      " 13  tweet_location                9907 non-null   object \n",
      " 14  user_timezone                 9820 non-null   object \n",
      "dtypes: float64(2), int64(2), object(11)\n",
      "memory usage: 1.8+ MB\n"
     ]
    }
   ],
   "source": [
    "df_tweets.info()"
   ]
  },
  {
   "cell_type": "code",
   "execution_count": 8,
   "metadata": {},
   "outputs": [
    {
     "data": {
      "text/html": [
       "<div>\n",
       "<style scoped>\n",
       "    .dataframe tbody tr th:only-of-type {\n",
       "        vertical-align: middle;\n",
       "    }\n",
       "\n",
       "    .dataframe tbody tr th {\n",
       "        vertical-align: top;\n",
       "    }\n",
       "\n",
       "    .dataframe thead th {\n",
       "        text-align: right;\n",
       "    }\n",
       "</style>\n",
       "<table border=\"1\" class=\"dataframe\">\n",
       "  <thead>\n",
       "    <tr style=\"text-align: right;\">\n",
       "      <th></th>\n",
       "      <th>tweet_id</th>\n",
       "      <th>airline_sentiment_confidence</th>\n",
       "      <th>negativereason_confidence</th>\n",
       "      <th>retweet_count</th>\n",
       "    </tr>\n",
       "  </thead>\n",
       "  <tbody>\n",
       "    <tr>\n",
       "      <th>count</th>\n",
       "      <td>1.464000e+04</td>\n",
       "      <td>14640.000000</td>\n",
       "      <td>10522.000000</td>\n",
       "      <td>14640.000000</td>\n",
       "    </tr>\n",
       "    <tr>\n",
       "      <th>mean</th>\n",
       "      <td>5.692184e+17</td>\n",
       "      <td>0.900169</td>\n",
       "      <td>0.638298</td>\n",
       "      <td>0.082650</td>\n",
       "    </tr>\n",
       "    <tr>\n",
       "      <th>std</th>\n",
       "      <td>7.791112e+14</td>\n",
       "      <td>0.162830</td>\n",
       "      <td>0.330440</td>\n",
       "      <td>0.745778</td>\n",
       "    </tr>\n",
       "    <tr>\n",
       "      <th>min</th>\n",
       "      <td>5.675883e+17</td>\n",
       "      <td>0.335000</td>\n",
       "      <td>0.000000</td>\n",
       "      <td>0.000000</td>\n",
       "    </tr>\n",
       "    <tr>\n",
       "      <th>25%</th>\n",
       "      <td>5.685592e+17</td>\n",
       "      <td>0.692300</td>\n",
       "      <td>0.360600</td>\n",
       "      <td>0.000000</td>\n",
       "    </tr>\n",
       "    <tr>\n",
       "      <th>50%</th>\n",
       "      <td>5.694779e+17</td>\n",
       "      <td>1.000000</td>\n",
       "      <td>0.670600</td>\n",
       "      <td>0.000000</td>\n",
       "    </tr>\n",
       "    <tr>\n",
       "      <th>75%</th>\n",
       "      <td>5.698905e+17</td>\n",
       "      <td>1.000000</td>\n",
       "      <td>1.000000</td>\n",
       "      <td>0.000000</td>\n",
       "    </tr>\n",
       "    <tr>\n",
       "      <th>max</th>\n",
       "      <td>5.703106e+17</td>\n",
       "      <td>1.000000</td>\n",
       "      <td>1.000000</td>\n",
       "      <td>44.000000</td>\n",
       "    </tr>\n",
       "  </tbody>\n",
       "</table>\n",
       "</div>"
      ],
      "text/plain": [
       "           tweet_id  airline_sentiment_confidence  negativereason_confidence  \\\n",
       "count  1.464000e+04                  14640.000000               10522.000000   \n",
       "mean   5.692184e+17                      0.900169                   0.638298   \n",
       "std    7.791112e+14                      0.162830                   0.330440   \n",
       "min    5.675883e+17                      0.335000                   0.000000   \n",
       "25%    5.685592e+17                      0.692300                   0.360600   \n",
       "50%    5.694779e+17                      1.000000                   0.670600   \n",
       "75%    5.698905e+17                      1.000000                   1.000000   \n",
       "max    5.703106e+17                      1.000000                   1.000000   \n",
       "\n",
       "       retweet_count  \n",
       "count   14640.000000  \n",
       "mean        0.082650  \n",
       "std         0.745778  \n",
       "min         0.000000  \n",
       "25%         0.000000  \n",
       "50%         0.000000  \n",
       "75%         0.000000  \n",
       "max        44.000000  "
      ]
     },
     "execution_count": 8,
     "metadata": {},
     "output_type": "execute_result"
    }
   ],
   "source": [
    "df_tweets.describe()"
   ]
  },
  {
   "cell_type": "markdown",
   "metadata": {},
   "source": [
    "We see that the two most relevant features for us to perform sentiment analysis would be the columns 'airline_sentiment' and the 'text' that is contained in the tweet."
   ]
  },
  {
   "cell_type": "markdown",
   "metadata": {},
   "source": [
    "**Plotting the different sentiments wrt the types and the airline towards which these sentiments were directed.**"
   ]
  },
  {
   "cell_type": "code",
   "execution_count": 9,
   "metadata": {},
   "outputs": [
    {
     "data": {
      "text/plain": [
       "<matplotlib.axes._subplots.AxesSubplot at 0x7f233f616750>"
      ]
     },
     "execution_count": 9,
     "metadata": {},
     "output_type": "execute_result"
    },
    {
     "data": {
      "image/png": "[encoded data removed]",
      "text/plain": [
       "<Figure size 432x288 with 1 Axes>"
      ]
     },
     "metadata": {
      "needs_background": "light"
     },
     "output_type": "display_data"
    }
   ],
   "source": [
    "df_tweets['airline_sentiment'].value_counts().plot(kind='bar')"
   ]
  },
  {
   "cell_type": "markdown",
   "metadata": {},
   "source": [
    "From the above graph, we can clearly see that most of the tweets in the given dataset are negative, followed by neutral. The number of positive tweets are relatively fewer in number."
   ]
  },
  {
   "cell_type": "code",
   "execution_count": 10,
   "metadata": {},
   "outputs": [
    {
     "data": {
      "text/plain": [
       "<matplotlib.axes._subplots.AxesSubplot at 0x7f233f534210>"
      ]
     },
     "execution_count": 10,
     "metadata": {},
     "output_type": "execute_result"
    },
    {
     "data": {
      "image/png": "[encoded data removed]",
      "text/plain": [
       "<Figure size 432x288 with 1 Axes>"
      ]
     },
     "metadata": {
      "needs_background": "light"
     },
     "output_type": "display_data"
    }
   ],
   "source": [
    "df_tweets['airline'].value_counts().plot(kind='bar')"
   ]
  },
  {
   "cell_type": "code",
   "execution_count": 11,
   "metadata": {},
   "outputs": [
    {
     "data": {
      "text/plain": [
       "<matplotlib.axes._subplots.AxesSubplot at 0x7f233f4d8dd0>"
      ]
     },
     "execution_count": 11,
     "metadata": {},
     "output_type": "execute_result"
    },
    {
     "data": {
      "image/png": "[encoded data removed]",
      "text/plain": [
       "<Figure size 432x288 with 1 Axes>"
      ]
     },
     "metadata": {
      "needs_background": "light"
     },
     "output_type": "display_data"
    }
   ],
   "source": [
    "df_tweets.groupby(['airline', 'airline_sentiment']).size().unstack().plot(kind='bar', stacked=True)"
   ]
  },
  {
   "cell_type": "markdown",
   "metadata": {},
   "source": [
    "**From the above two graphs we can see that there is a clear correlation between the degree of passenger satisfaction and the specific airline they were flying with, hence while feature engineering, we would have to filter out the airline name from our dataset so that our model doesn't learn it as a parameter and make it a basis for prediction.**"
   ]
  },
  {
   "cell_type": "markdown",
   "metadata": {},
   "source": [
    "**Analysing the sentiment on the basis of the length of the tweet**"
   ]
  },
  {
   "cell_type": "code",
   "execution_count": 12,
   "metadata": {},
   "outputs": [
    {
     "data": {
      "text/plain": [
       "<matplotlib.axes._subplots.AxesSubplot at 0x7f233f3b5590>"
      ]
     },
     "execution_count": 12,
     "metadata": {},
     "output_type": "execute_result"
    },
    {
     "data": {
      "image/png": "[encoded data removed]",
      "text/plain": [
       "<Figure size 432x288 with 1 Axes>"
      ]
     },
     "metadata": {
      "needs_background": "light"
     },
     "output_type": "display_data"
    }
   ],
   "source": [
    "df_tweets['tweet_length'] = df_tweets['text'].apply(len)\n",
    "df_tweets.groupby(['tweet_length', 'airline_sentiment']).size().unstack().plot(kind='line', stacked=False)"
   ]
  },
  {
   "cell_type": "markdown",
   "metadata": {},
   "source": [
    "We see that there isn't alot of correation between the tweet length and the sentiment behind the tweet. The only conclusion that can safely be drawn from the above graph is the fact that the distribution is heavily skewed in the case of negative tweets, as the more dissatisfied the passenger, the more they have to say. "
   ]
  },
  {
   "cell_type": "markdown",
   "metadata": {},
   "source": [
    "Lets check if any such conclusion can be drawn when it comes to average and median sentiment confidence as well. "
   ]
  },
  {
   "cell_type": "code",
   "execution_count": 13,
   "metadata": {},
   "outputs": [
    {
     "data": {
      "text/plain": [
       "Text(0.5, 1.0, 'Average Airline Sentiment vs tweet length')"
      ]
     },
     "execution_count": 13,
     "metadata": {},
     "output_type": "execute_result"
    },
    {
     "data": {
      "image/png": "[encoded data removed]",
      "text/plain": [
       "<Figure size 432x288 with 1 Axes>"
      ]
     },
     "metadata": {
      "needs_background": "light"
     },
     "output_type": "display_data"
    }
   ],
   "source": [
    "df_tweets[['tweet_length', 'airline_sentiment', 'airline_sentiment_confidence']].groupby(['tweet_length', 'airline_sentiment']).mean().unstack().plot(kind='line', stacked=False)\n",
    "plt.title('Average Airline Sentiment vs tweet length')"
   ]
  },
  {
   "cell_type": "code",
   "execution_count": 14,
   "metadata": {},
   "outputs": [
    {
     "data": {
      "text/plain": [
       "Text(0.5, 1.0, 'Median Airline Sentiment vs tweet length')"
      ]
     },
     "execution_count": 14,
     "metadata": {},
     "output_type": "execute_result"
    },
    {
     "data": {
      "image/png": "[encoded data removed]",
      "text/plain": [
       "<Figure size 432x288 with 1 Axes>"
      ]
     },
     "metadata": {
      "needs_background": "light"
     },
     "output_type": "display_data"
    }
   ],
   "source": [
    "df_tweets[['tweet_length', 'airline_sentiment', 'airline_sentiment_confidence']].groupby(['tweet_length', 'airline_sentiment']).median().unstack().plot(kind='line', stacked=False)\n",
    "plt.title('Median Airline Sentiment vs tweet length')"
   ]
  },
  {
   "cell_type": "markdown",
   "metadata": {},
   "source": [
    "As no distinguishable and concrete relationship can be inferred from the confidence and tweet length, we will form a dataframe considering the text and airline_sentiment attribute."
   ]
  },
  {
   "cell_type": "code",
   "execution_count": 15,
   "metadata": {},
   "outputs": [
    {
     "data": {
      "text/html": [
       "<div>\n",
       "<style scoped>\n",
       "    .dataframe tbody tr th:only-of-type {\n",
       "        vertical-align: middle;\n",
       "    }\n",
       "\n",
       "    .dataframe tbody tr th {\n",
       "        vertical-align: top;\n",
       "    }\n",
       "\n",
       "    .dataframe thead th {\n",
       "        text-align: right;\n",
       "    }\n",
       "</style>\n",
       "<table border=\"1\" class=\"dataframe\">\n",
       "  <thead>\n",
       "    <tr style=\"text-align: right;\">\n",
       "      <th></th>\n",
       "      <th>airline_sentiment</th>\n",
       "      <th>text</th>\n",
       "    </tr>\n",
       "  </thead>\n",
       "  <tbody>\n",
       "    <tr>\n",
       "      <th>6457</th>\n",
       "      <td>negative</td>\n",
       "      <td>@SouthwestAir Not your finest moment in Boston right now!</td>\n",
       "    </tr>\n",
       "    <tr>\n",
       "      <th>3263</th>\n",
       "      <td>negative</td>\n",
       "      <td>@united still sitting here waiting for a plane....4 hours wasted</td>\n",
       "    </tr>\n",
       "    <tr>\n",
       "      <th>10232</th>\n",
       "      <td>negative</td>\n",
       "      <td>@USAirways not happy!! Trying to get home on Cancelled Flighted flight&amp;amp; been on hold for 2 hours. Help!! This is just crazy...</td>\n",
       "    </tr>\n",
       "    <tr>\n",
       "      <th>14481</th>\n",
       "      <td>positive</td>\n",
       "      <td>@AmericanAir appreciate update. Have also appreciated our pilots effort to explain to us just now. Accurate, authoritative comms is vital.</td>\n",
       "    </tr>\n",
       "    <tr>\n",
       "      <th>10420</th>\n",
       "      <td>negative</td>\n",
       "      <td>@USAirways Bravo handling MSP to PHX # 2023 today. Delayed, Late Flightr Cancelled Flightled. Missed surprise 60th bday which was reason for trip.Never again</td>\n",
       "    </tr>\n",
       "  </tbody>\n",
       "</table>\n",
       "</div>"
      ],
      "text/plain": [
       "      airline_sentiment  \\\n",
       "6457   negative           \n",
       "3263   negative           \n",
       "10232  negative           \n",
       "14481  positive           \n",
       "10420  negative           \n",
       "\n",
       "                                                                                                                                                                text  \n",
       "6457   @SouthwestAir Not your finest moment in Boston right now!                                                                                                      \n",
       "3263   @united still sitting here waiting for a plane....4 hours wasted                                                                                               \n",
       "10232  @USAirways not happy!! Trying to get home on Cancelled Flighted flight&amp; been on hold for 2 hours. Help!! This is just crazy...                             \n",
       "14481  @AmericanAir appreciate update. Have also appreciated our pilots effort to explain to us just now. Accurate, authoritative comms is vital.                     \n",
       "10420  @USAirways Bravo handling MSP to PHX # 2023 today. Delayed, Late Flightr Cancelled Flightled. Missed surprise 60th bday which was reason for trip.Never again  "
      ]
     },
     "execution_count": 15,
     "metadata": {},
     "output_type": "execute_result"
    }
   ],
   "source": [
    "features = ['airline_sentiment','text']\n",
    "df_needed = df_tweets[features]\n",
    "pd.set_option('display.max_colwidth', 0)\n",
    "df_needed.head()"
   ]
  },
  {
   "cell_type": "code",
   "execution_count": 16,
   "metadata": {},
   "outputs": [
    {
     "name": "stdout",
     "output_type": "stream",
     "text": [
      "<class 'pandas.core.frame.DataFrame'>\n",
      "Int64Index: 14640 entries, 6457 to 6176\n",
      "Data columns (total 2 columns):\n",
      " #   Column             Non-Null Count  Dtype \n",
      "---  ------             --------------  ----- \n",
      " 0   airline_sentiment  14640 non-null  object\n",
      " 1   text               14640 non-null  object\n",
      "dtypes: object(2)\n",
      "memory usage: 343.1+ KB\n"
     ]
    }
   ],
   "source": [
    "df_needed.info()"
   ]
  },
  {
   "cell_type": "code",
   "execution_count": 17,
   "metadata": {},
   "outputs": [
    {
     "data": {
      "text/html": [
       "<div>\n",
       "<style scoped>\n",
       "    .dataframe tbody tr th:only-of-type {\n",
       "        vertical-align: middle;\n",
       "    }\n",
       "\n",
       "    .dataframe tbody tr th {\n",
       "        vertical-align: top;\n",
       "    }\n",
       "\n",
       "    .dataframe thead th {\n",
       "        text-align: right;\n",
       "    }\n",
       "</style>\n",
       "<table border=\"1\" class=\"dataframe\">\n",
       "  <thead>\n",
       "    <tr style=\"text-align: right;\">\n",
       "      <th></th>\n",
       "      <th>airline_sentiment</th>\n",
       "      <th>text</th>\n",
       "    </tr>\n",
       "  </thead>\n",
       "  <tbody>\n",
       "    <tr>\n",
       "      <th>count</th>\n",
       "      <td>14640</td>\n",
       "      <td>14640</td>\n",
       "    </tr>\n",
       "    <tr>\n",
       "      <th>unique</th>\n",
       "      <td>3</td>\n",
       "      <td>14427</td>\n",
       "    </tr>\n",
       "    <tr>\n",
       "      <th>top</th>\n",
       "      <td>negative</td>\n",
       "      <td>@united thanks</td>\n",
       "    </tr>\n",
       "    <tr>\n",
       "      <th>freq</th>\n",
       "      <td>9178</td>\n",
       "      <td>6</td>\n",
       "    </tr>\n",
       "  </tbody>\n",
       "</table>\n",
       "</div>"
      ],
      "text/plain": [
       "       airline_sentiment            text\n",
       "count   14640             14640         \n",
       "unique  3                 14427         \n",
       "top     negative          @united thanks\n",
       "freq    9178              6             "
      ]
     },
     "execution_count": 17,
     "metadata": {},
     "output_type": "execute_result"
    }
   ],
   "source": [
    "df_needed.describe()"
   ]
  },
  {
   "cell_type": "markdown",
   "metadata": {},
   "source": [
    "**Checking for missing values in our data**"
   ]
  },
  {
   "cell_type": "code",
   "execution_count": 18,
   "metadata": {},
   "outputs": [
    {
     "data": {
      "text/plain": [
       "airline_sentiment    0\n",
       "text                 0\n",
       "dtype: int64"
      ]
     },
     "execution_count": 18,
     "metadata": {},
     "output_type": "execute_result"
    }
   ],
   "source": [
    "df_needed.isna().sum()"
   ]
  },
  {
   "cell_type": "code",
   "execution_count": 19,
   "metadata": {},
   "outputs": [],
   "source": [
    "#df_needed['airline_sentiment'].count()"
   ]
  },
  {
   "cell_type": "code",
   "execution_count": 20,
   "metadata": {},
   "outputs": [
    {
     "data": {
      "text/plain": [
       "negative    9178\n",
       "neutral     3099\n",
       "positive    2363\n",
       "Name: airline_sentiment, dtype: int64"
      ]
     },
     "execution_count": 20,
     "metadata": {},
     "output_type": "execute_result"
    }
   ],
   "source": [
    "df_needed['airline_sentiment'].value_counts()"
   ]
  },
  {
   "cell_type": "code",
   "execution_count": 21,
   "metadata": {},
   "outputs": [
    {
     "data": {
      "text/plain": [
       "Text(0.5, 1.0, 'Airline Sentiment for each US Airline')"
      ]
     },
     "execution_count": 21,
     "metadata": {},
     "output_type": "execute_result"
    },
    {
     "data": {
      "image/png": "[encoded data removed]",
      "text/plain": [
       "<Figure size 864x720 with 1 Axes>"
      ]
     },
     "metadata": {},
     "output_type": "display_data"
    }
   ],
   "source": [
    "sns.set(style = \"whitegrid\")\n",
    "sns.set(rc={'figure.figsize': (12,10)})\n",
    "sns.countplot(x=\"airline\", hue = 'airline_sentiment', data=df_tweets)\n",
    "plt.title(\"Airline Sentiment for each US Airline\")"
   ]
  },
  {
   "cell_type": "markdown",
   "metadata": {},
   "source": [
    "### As we see that customer sentiments are somewhat specific to the airline they are using to travel, hence we will have to remove the names of the airlines so that our predictive model is not influenced by the names of the airlines because of the high correlation. "
   ]
  },
  {
   "cell_type": "code",
   "execution_count": 22,
   "metadata": {},
   "outputs": [],
   "source": [
    "reg = r\"@(VirginAmerica|SouthwestAir|united|AmericanAir|Delta|USAirways)\""
   ]
  },
  {
   "cell_type": "markdown",
   "metadata": {},
   "source": [
    "Writing a function to replace the airline name"
   ]
  },
  {
   "cell_type": "code",
   "execution_count": 23,
   "metadata": {},
   "outputs": [],
   "source": [
    "def text_filter(text):\n",
    "    return re.sub(reg,'@airline',text, flags = re.IGNORECASE)"
   ]
  },
  {
   "cell_type": "code",
   "execution_count": 24,
   "metadata": {},
   "outputs": [
    {
     "name": "stderr",
     "output_type": "stream",
     "text": [
      "/opt/conda/lib/python3.7/site-packages/ipykernel_launcher.py:1: SettingWithCopyWarning: \n",
      "A value is trying to be set on a copy of a slice from a DataFrame.\n",
      "Try using .loc[row_indexer,col_indexer] = value instead\n",
      "\n",
      "See the caveats in the documentation: https://pandas.pydata.org/pandas-docs/stable/user_guide/indexing.html#returning-a-view-versus-a-copy\n",
      "  \"\"\"Entry point for launching an IPython kernel.\n"
     ]
    }
   ],
   "source": [
    "df_needed['text'] = df_needed['text'].apply(text_filter)"
   ]
  },
  {
   "cell_type": "code",
   "execution_count": 25,
   "metadata": {},
   "outputs": [
    {
     "data": {
      "text/html": [
       "<div>\n",
       "<style scoped>\n",
       "    .dataframe tbody tr th:only-of-type {\n",
       "        vertical-align: middle;\n",
       "    }\n",
       "\n",
       "    .dataframe tbody tr th {\n",
       "        vertical-align: top;\n",
       "    }\n",
       "\n",
       "    .dataframe thead th {\n",
       "        text-align: right;\n",
       "    }\n",
       "</style>\n",
       "<table border=\"1\" class=\"dataframe\">\n",
       "  <thead>\n",
       "    <tr style=\"text-align: right;\">\n",
       "      <th></th>\n",
       "      <th>airline_sentiment</th>\n",
       "      <th>text</th>\n",
       "    </tr>\n",
       "  </thead>\n",
       "  <tbody>\n",
       "    <tr>\n",
       "      <th>6457</th>\n",
       "      <td>negative</td>\n",
       "      <td>@airline Not your finest moment in Boston right now!</td>\n",
       "    </tr>\n",
       "    <tr>\n",
       "      <th>3263</th>\n",
       "      <td>negative</td>\n",
       "      <td>@airline still sitting here waiting for a plane....4 hours wasted</td>\n",
       "    </tr>\n",
       "    <tr>\n",
       "      <th>10232</th>\n",
       "      <td>negative</td>\n",
       "      <td>@airline not happy!! Trying to get home on Cancelled Flighted flight&amp;amp; been on hold for 2 hours. Help!! This is just crazy...</td>\n",
       "    </tr>\n",
       "    <tr>\n",
       "      <th>14481</th>\n",
       "      <td>positive</td>\n",
       "      <td>@airline appreciate update. Have also appreciated our pilots effort to explain to us just now. Accurate, authoritative comms is vital.</td>\n",
       "    </tr>\n",
       "    <tr>\n",
       "      <th>10420</th>\n",
       "      <td>negative</td>\n",
       "      <td>@airline Bravo handling MSP to PHX # 2023 today. Delayed, Late Flightr Cancelled Flightled. Missed surprise 60th bday which was reason for trip.Never again</td>\n",
       "    </tr>\n",
       "    <tr>\n",
       "      <th>8451</th>\n",
       "      <td>negative</td>\n",
       "      <td>@JetBlue your customer services agent Jorge at Orlando International is rude and disrespectful, I never want to deal with your bullshit ever</td>\n",
       "    </tr>\n",
       "    <tr>\n",
       "      <th>13138</th>\n",
       "      <td>positive</td>\n",
       "      <td>@airline THANK YOU FOR ALL THE HELP!  :P You guys are the best.  #americanairlines #americanair</td>\n",
       "    </tr>\n",
       "    <tr>\n",
       "      <th>9057</th>\n",
       "      <td>neutral</td>\n",
       "      <td>@airline can I check bags through to my final destination even though I bought separate tickets from IAD to PHL  and PHL to Israel?</td>\n",
       "    </tr>\n",
       "    <tr>\n",
       "      <th>89</th>\n",
       "      <td>negative</td>\n",
       "      <td>@airline Why is the site down?  When will it be back up?</td>\n",
       "    </tr>\n",
       "    <tr>\n",
       "      <th>9829</th>\n",
       "      <td>negative</td>\n",
       "      <td>@airline ...was Cancelled Flightled and now I need to locate my baggage</td>\n",
       "    </tr>\n",
       "    <tr>\n",
       "      <th>12431</th>\n",
       "      <td>neutral</td>\n",
       "      <td>@airline and @CVGairport get it together, perfect combination for delays and Cancelled Flightlations</td>\n",
       "    </tr>\n",
       "    <tr>\n",
       "      <th>1059</th>\n",
       "      <td>negative</td>\n",
       "      <td>@airline 45+ min at EWR baggage claim #stillnobags #ridiculous</td>\n",
       "    </tr>\n",
       "    <tr>\n",
       "      <th>13167</th>\n",
       "      <td>negative</td>\n",
       "      <td>@airline ...why would you sell seats for a 7 hour flight with half of the legroom occupied by an escape raft? http://t.co/DTHEyOFXrB</td>\n",
       "    </tr>\n",
       "    <tr>\n",
       "      <th>13278</th>\n",
       "      <td>negative</td>\n",
       "      <td>@airline I dmed</td>\n",
       "    </tr>\n",
       "    <tr>\n",
       "      <th>14415</th>\n",
       "      <td>positive</td>\n",
       "      <td>@airline Always love opening the upgrade email.</td>\n",
       "    </tr>\n",
       "  </tbody>\n",
       "</table>\n",
       "</div>"
      ],
      "text/plain": [
       "      airline_sentiment  \\\n",
       "6457   negative           \n",
       "3263   negative           \n",
       "10232  negative           \n",
       "14481  positive           \n",
       "10420  negative           \n",
       "8451   negative           \n",
       "13138  positive           \n",
       "9057   neutral            \n",
       "89     negative           \n",
       "9829   negative           \n",
       "12431  neutral            \n",
       "1059   negative           \n",
       "13167  negative           \n",
       "13278  negative           \n",
       "14415  positive           \n",
       "\n",
       "                                                                                                                                                              text  \n",
       "6457   @airline Not your finest moment in Boston right now!                                                                                                         \n",
       "3263   @airline still sitting here waiting for a plane....4 hours wasted                                                                                            \n",
       "10232  @airline not happy!! Trying to get home on Cancelled Flighted flight&amp; been on hold for 2 hours. Help!! This is just crazy...                             \n",
       "14481  @airline appreciate update. Have also appreciated our pilots effort to explain to us just now. Accurate, authoritative comms is vital.                       \n",
       "10420  @airline Bravo handling MSP to PHX # 2023 today. Delayed, Late Flightr Cancelled Flightled. Missed surprise 60th bday which was reason for trip.Never again  \n",
       "8451   @JetBlue your customer services agent Jorge at Orlando International is rude and disrespectful, I never want to deal with your bullshit ever                 \n",
       "13138  @airline THANK YOU FOR ALL THE HELP!  :P You guys are the best.  #americanairlines #americanair                                                              \n",
       "9057   @airline can I check bags through to my final destination even though I bought separate tickets from IAD to PHL  and PHL to Israel?                          \n",
       "89     @airline Why is the site down?  When will it be back up?                                                                                                     \n",
       "9829   @airline ...was Cancelled Flightled and now I need to locate my baggage                                                                                      \n",
       "12431  @airline and @CVGairport get it together, perfect combination for delays and Cancelled Flightlations                                                         \n",
       "1059   @airline 45+ min at EWR baggage claim #stillnobags #ridiculous                                                                                               \n",
       "13167  @airline ...why would you sell seats for a 7 hour flight with half of the legroom occupied by an escape raft? http://t.co/DTHEyOFXrB                         \n",
       "13278  @airline I dmed                                                                                                                                              \n",
       "14415  @airline Always love opening the upgrade email.                                                                                                              "
      ]
     },
     "execution_count": 25,
     "metadata": {},
     "output_type": "execute_result"
    }
   ],
   "source": [
    "df_needed.head(15)"
   ]
  },
  {
   "cell_type": "markdown",
   "metadata": {},
   "source": [
    "We have successfully removed the airlines names from our dataframe.\n",
    "Now we convert the obtained dataframe into a databunch, as required by our training method."
   ]
  },
  {
   "cell_type": "markdown",
   "metadata": {},
   "source": [
    "# ULMFiT training method"
   ]
  },
  {
   "cell_type": "markdown",
   "metadata": {},
   "source": [
    "**Splitting the dataset into train and test sets, initializing hyperparameters and converting it into a Databunch**"
   ]
  },
  {
   "cell_type": "code",
   "execution_count": 26,
   "metadata": {},
   "outputs": [],
   "source": [
    "train, test = train_test_split(df_needed, test_size =0.1)\n",
    "moms = (0.8,0.7)\n",
    "wd = 0.1"
   ]
  },
  {
   "cell_type": "markdown",
   "metadata": {},
   "source": [
    "## *Tokenization*\n",
    "\n",
    "We read in the data and add new words to our dictionary, as well as create a representation of words using numbers."
   ]
  },
  {
   "cell_type": "code",
   "execution_count": 27,
   "metadata": {},
   "outputs": [
    {
     "data": {
      "text/html": [],
      "text/plain": [
       "<IPython.core.display.HTML object>"
      ]
     },
     "metadata": {},
     "output_type": "display_data"
    },
    {
     "data": {
      "text/html": [],
      "text/plain": [
       "<IPython.core.display.HTML object>"
      ]
     },
     "metadata": {},
     "output_type": "display_data"
    }
   ],
   "source": [
    "data = TextLMDataBunch.from_df(path, train_df = train, valid_df = test)"
   ]
  },
  {
   "cell_type": "code",
   "execution_count": 28,
   "metadata": {},
   "outputs": [
    {
     "data": {
      "text/html": [
       "<table border=\"1\" class=\"dataframe\">\n",
       "  <thead>\n",
       "    <tr style=\"text-align: right;\">\n",
       "      <th>idx</th>\n",
       "      <th>text</th>\n",
       "    </tr>\n",
       "  </thead>\n",
       "  <tbody>\n",
       "    <tr>\n",
       "      <td>0</td>\n",
       "      <td>know me ! \" xxbos @airline i guess . xxmaj but what is the excuse for understaffed costumer services ? 3 people had to deal with lots of angry passengers . xxmaj weather too ? xxbos xxmaj need more info on that ! @airline : @momsgoodeats xxmaj we have great xxunk xxunk . xxup pj 's not included . xxmaj we status match xxup aa . xxup ^kp ” xxbos</td>\n",
       "    </tr>\n",
       "    <tr>\n",
       "      <td>1</td>\n",
       "      <td>it ? # xxunk xxbos @airline trying to change my flight and you just hang up on ppl bc call volume is high . xxmaj that 's a joke , right ? xxbos @airline xxunk from c concourse to e and just made it . xxmaj xxunk up a xxunk in the process but am now in xxup clt ! xxmaj tnx ! xxbos @airline well it xxup is xxmaj</td>\n",
       "    </tr>\n",
       "    <tr>\n",
       "      <td>2</td>\n",
       "      <td>. xxmaj pacific xxmaj xxunk and xxmaj date xxmaj night cut out . xxmaj not constantly or randomly , but one spot , xxunk . xxbos @airline xxunk 20 minutes beating up a lady about her bag fees . xxmaj random stranger comes up and pays the fee . # xxmaj xxunk xxbos @airline xxmaj from the air : xxmaj another missed cnxn 2day . xxup atc went on strike</td>\n",
       "    </tr>\n",
       "    <tr>\n",
       "      <td>3</td>\n",
       "      <td>me a lot of money . xxbos @airline should , but did n’t . xxbos @airline xxmaj your crew on xxunk is doing a great job of keeping everyone informed during the delays # xxunk xxbos @airline i have 8 flights with you in the next two weeks :) let 's make some good memories ! xxbos @airline xxmaj you xxunk to mention the $ 200 fee per ticket .</td>\n",
       "    </tr>\n",
       "    <tr>\n",
       "      <td>4</td>\n",
       "      <td>xxunk , xxunk with snow on the ground for sunny and xxup xxunk las vegas @lasairport http : / / t.co / xxunk xxbos @airline xxmaj all i requested was a refund of my xxmaj reward xxmaj points that i used to purchase the flight and he refused . xxbos @airline xxup ha ! xxmaj you 're fun . xxbos @airline xxmaj the fact we did not get notified xxunk</td>\n",
       "    </tr>\n",
       "  </tbody>\n",
       "</table>"
      ],
      "text/plain": [
       "<IPython.core.display.HTML object>"
      ]
     },
     "metadata": {},
     "output_type": "display_data"
    }
   ],
   "source": [
    "data.show_batch()"
   ]
  },
  {
   "cell_type": "markdown",
   "metadata": {},
   "source": [
    "**As we can see from the above dataframe, the following changes have been implemented for the ease of data modeling and model training:**\n",
    "* splitting on spaces\n",
    "* splitting on punctuation marks\n",
    "* several special tokens have been usd to replace the unknown tokens.\n",
    "* Contractions like \"wouldn't\", have been separated."
   ]
  },
  {
   "cell_type": "markdown",
   "metadata": {},
   "source": [
    "Representation of unknown tokens can further be understood by looking at the below list for the entries beginning with symbols ('xx')."
   ]
  },
  {
   "cell_type": "code",
   "execution_count": 29,
   "metadata": {},
   "outputs": [
    {
     "data": {
      "text/plain": [
       "['xxunk',\n",
       " 'xxpad',\n",
       " 'xxbos',\n",
       " 'xxeos',\n",
       " 'xxfld',\n",
       " 'xxmaj',\n",
       " 'xxup',\n",
       " 'xxrep',\n",
       " 'xxwrep',\n",
       " '.']"
      ]
     },
     "execution_count": 29,
     "metadata": {},
     "output_type": "execute_result"
    }
   ],
   "source": [
    "data.vocab.itos[:10]"
   ]
  },
  {
   "cell_type": "markdown",
   "metadata": {},
   "source": [
    "Text representation post pre-processing"
   ]
  },
  {
   "cell_type": "code",
   "execution_count": 70,
   "metadata": {},
   "outputs": [
    {
     "name": "stdout",
     "output_type": "stream",
     "text": [
      "xxbos @airline our hold up now is the captain that was xxmaj late xxmaj flight ... his bag does n't fit .\n",
      "xxbos @airline \" xxmaj you down with xxup xxunk ? \" \" xxmaj yeah you know me ! \"\n",
      "xxbos xxmaj need more info on that ! @airline : @momsgoodeats xxmaj we have great xxunk xxunk . xxup pj 's not included . xxmaj we status match xxup aa . xxup ^kp ”\n"
     ]
    }
   ],
   "source": [
    "print(data.train_ds[0][0])\n",
    "print(data.train_ds[2][0])\n",
    "print(data.train_ds[4][0])"
   ]
  },
  {
   "cell_type": "markdown",
   "metadata": {},
   "source": [
    "Numerical representation post pre-processing"
   ]
  },
  {
   "cell_type": "code",
   "execution_count": 71,
   "metadata": {},
   "outputs": [
    {
     "name": "stdout",
     "output_type": "stream",
     "text": [
      "[   2   10   75   84   73   58   26   13 1018   35]\n",
      "[  2  10  62   5  17 313  39   6   0  15]\n",
      "[  2   5  95 120 289  22  35  14  10  33]\n"
     ]
    }
   ],
   "source": [
    "print(data.train_ds[0][0].data[:10])\n",
    "print(data.train_ds[2][0].data[:10])\n",
    "print(data.train_ds[4][0].data[:10])"
   ]
  },
  {
   "cell_type": "markdown",
   "metadata": {},
   "source": [
    "# Language Model"
   ]
  },
  {
   "cell_type": "code",
   "execution_count": 30,
   "metadata": {},
   "outputs": [],
   "source": [
    "#learn = language_model_learner(data, AWD_LSTM, drop_mult=0.3)"
   ]
  },
  {
   "cell_type": "markdown",
   "metadata": {},
   "source": [
    "Defining the language model and setting the leaning rates."
   ]
  },
  {
   "cell_type": "code",
   "execution_count": 31,
   "metadata": {},
   "outputs": [
    {
     "name": "stdout",
     "output_type": "stream",
     "text": [
      "Downloading https://s3.amazonaws.com/fast-ai-modelzoo/wt103-fwd.tgz\n"
     ]
    },
    {
     "data": {
      "text/html": [],
      "text/plain": [
       "<IPython.core.display.HTML object>"
      ]
     },
     "metadata": {},
     "output_type": "display_data"
    }
   ],
   "source": [
    "learn = language_model_learner(data, AWD_LSTM, drop_mult=0.5, model_dir='/tmp/models')\n",
    "learn.freeze()"
   ]
  },
  {
   "cell_type": "code",
   "execution_count": 32,
   "metadata": {},
   "outputs": [
    {
     "data": {
      "text/html": [
       "\n",
       "    <div>\n",
       "        <style>\n",
       "            /* Turns off some styling */\n",
       "            progress {\n",
       "                /* gets rid of default border in Firefox and Opera. */\n",
       "                border: none;\n",
       "                /* Needs to be in here for Safari polyfill so background images work as expected. */\n",
       "                background-size: auto;\n",
       "            }\n",
       "            .progress-bar-interrupted, .progress-bar-interrupted::-webkit-progress-bar {\n",
       "                background: #F44336;\n",
       "            }\n",
       "        </style>\n",
       "      <progress value='1' class='' max='2' style='width:300px; height:20px; vertical-align: middle;'></progress>\n",
       "      50.00% [1/2 00:08<00:08]\n",
       "    </div>\n",
       "    \n",
       "<table border=\"1\" class=\"dataframe\">\n",
       "  <thead>\n",
       "    <tr style=\"text-align: left;\">\n",
       "      <th>epoch</th>\n",
       "      <th>train_loss</th>\n",
       "      <th>valid_loss</th>\n",
       "      <th>accuracy</th>\n",
       "      <th>time</th>\n",
       "    </tr>\n",
       "  </thead>\n",
       "  <tbody>\n",
       "    <tr>\n",
       "      <td>0</td>\n",
       "      <td>6.184167</td>\n",
       "      <td>#na#</td>\n",
       "      <td>00:08</td>\n",
       "    </tr>\n",
       "  </tbody>\n",
       "</table><p>\n",
       "\n",
       "    <div>\n",
       "        <style>\n",
       "            /* Turns off some styling */\n",
       "            progress {\n",
       "                /* gets rid of default border in Firefox and Opera. */\n",
       "                border: none;\n",
       "                /* Needs to be in here for Safari polyfill so background images work as expected. */\n",
       "                background-size: auto;\n",
       "            }\n",
       "            .progress-bar-interrupted, .progress-bar-interrupted::-webkit-progress-bar {\n",
       "                background: #F44336;\n",
       "            }\n",
       "        </style>\n",
       "      <progress value='27' class='' max='72' style='width:300px; height:20px; vertical-align: middle;'></progress>\n",
       "      37.50% [27/72 00:02<00:04 10.1812]\n",
       "    </div>\n",
       "    "
      ],
      "text/plain": [
       "<IPython.core.display.HTML object>"
      ]
     },
     "metadata": {},
     "output_type": "display_data"
    },
    {
     "name": "stdout",
     "output_type": "stream",
     "text": [
      "LR Finder is complete, type {learner_name}.recorder.plot() to see the graph.\n"
     ]
    }
   ],
   "source": [
    "learn.lr_find()"
   ]
  },
  {
   "cell_type": "code",
   "execution_count": 33,
   "metadata": {},
   "outputs": [
    {
     "data": {
      "image/png": "[encoded data removed]",
      "text/plain": [
       "<Figure size 864x720 with 1 Axes>"
      ]
     },
     "metadata": {},
     "output_type": "display_data"
    }
   ],
   "source": [
    "learn.recorder.plot()"
   ]
  },
  {
   "cell_type": "code",
   "execution_count": 34,
   "metadata": {},
   "outputs": [
    {
     "data": {
      "image/png": "[encoded data removed]",
      "text/plain": [
       "<Figure size 864x720 with 1 Axes>"
      ]
     },
     "metadata": {},
     "output_type": "display_data"
    }
   ],
   "source": [
    "learn.recorder.plot(skip_end=15)"
   ]
  },
  {
   "cell_type": "markdown",
   "metadata": {},
   "source": [
    "Now, we fit the model for a few cycles by running 1 epoch and then unfreezing and running subsequent epochs to fine tune the same."
   ]
  },
  {
   "cell_type": "code",
   "execution_count": 35,
   "metadata": {},
   "outputs": [],
   "source": [
    "moms = (0.8,0.7)\n",
    "wd = 0.1\n",
    "lr = 1.0E-02"
   ]
  },
  {
   "cell_type": "code",
   "execution_count": 36,
   "metadata": {},
   "outputs": [
    {
     "data": {
      "text/html": [
       "<table border=\"1\" class=\"dataframe\">\n",
       "  <thead>\n",
       "    <tr style=\"text-align: left;\">\n",
       "      <th>epoch</th>\n",
       "      <th>train_loss</th>\n",
       "      <th>valid_loss</th>\n",
       "      <th>accuracy</th>\n",
       "      <th>time</th>\n",
       "    </tr>\n",
       "  </thead>\n",
       "  <tbody>\n",
       "    <tr>\n",
       "      <td>0</td>\n",
       "      <td>4.670446</td>\n",
       "      <td>4.044089</td>\n",
       "      <td>0.271010</td>\n",
       "      <td>00:07</td>\n",
       "    </tr>\n",
       "  </tbody>\n",
       "</table>"
      ],
      "text/plain": [
       "<IPython.core.display.HTML object>"
      ]
     },
     "metadata": {},
     "output_type": "display_data"
    }
   ],
   "source": [
    "learn.fit_one_cycle(1, lr, moms=moms, wd=wd)"
   ]
  },
  {
   "cell_type": "code",
   "execution_count": 37,
   "metadata": {},
   "outputs": [],
   "source": [
    "learn.unfreeze()"
   ]
  },
  {
   "cell_type": "code",
   "execution_count": 38,
   "metadata": {},
   "outputs": [
    {
     "data": {
      "text/html": [
       "<table border=\"1\" class=\"dataframe\">\n",
       "  <thead>\n",
       "    <tr style=\"text-align: left;\">\n",
       "      <th>epoch</th>\n",
       "      <th>train_loss</th>\n",
       "      <th>valid_loss</th>\n",
       "      <th>accuracy</th>\n",
       "      <th>time</th>\n",
       "    </tr>\n",
       "  </thead>\n",
       "  <tbody>\n",
       "    <tr>\n",
       "      <td>0</td>\n",
       "      <td>3.885673</td>\n",
       "      <td>3.759860</td>\n",
       "      <td>0.306892</td>\n",
       "      <td>00:09</td>\n",
       "    </tr>\n",
       "    <tr>\n",
       "      <td>1</td>\n",
       "      <td>3.733045</td>\n",
       "      <td>3.758001</td>\n",
       "      <td>0.306111</td>\n",
       "      <td>00:09</td>\n",
       "    </tr>\n",
       "    <tr>\n",
       "      <td>2</td>\n",
       "      <td>3.599432</td>\n",
       "      <td>3.682565</td>\n",
       "      <td>0.313672</td>\n",
       "      <td>00:09</td>\n",
       "    </tr>\n",
       "    <tr>\n",
       "      <td>3</td>\n",
       "      <td>3.383517</td>\n",
       "      <td>3.689360</td>\n",
       "      <td>0.314118</td>\n",
       "      <td>00:09</td>\n",
       "    </tr>\n",
       "    <tr>\n",
       "      <td>4</td>\n",
       "      <td>3.147847</td>\n",
       "      <td>3.707607</td>\n",
       "      <td>0.313560</td>\n",
       "      <td>00:09</td>\n",
       "    </tr>\n",
       "    <tr>\n",
       "      <td>5</td>\n",
       "      <td>2.821116</td>\n",
       "      <td>3.747871</td>\n",
       "      <td>0.316099</td>\n",
       "      <td>00:09</td>\n",
       "    </tr>\n",
       "    <tr>\n",
       "      <td>6</td>\n",
       "      <td>2.409079</td>\n",
       "      <td>3.862793</td>\n",
       "      <td>0.315485</td>\n",
       "      <td>00:09</td>\n",
       "    </tr>\n",
       "    <tr>\n",
       "      <td>7</td>\n",
       "      <td>1.950973</td>\n",
       "      <td>4.015057</td>\n",
       "      <td>0.312500</td>\n",
       "      <td>00:09</td>\n",
       "    </tr>\n",
       "    <tr>\n",
       "      <td>8</td>\n",
       "      <td>1.580811</td>\n",
       "      <td>4.132882</td>\n",
       "      <td>0.310379</td>\n",
       "      <td>00:09</td>\n",
       "    </tr>\n",
       "    <tr>\n",
       "      <td>9</td>\n",
       "      <td>1.378906</td>\n",
       "      <td>4.172426</td>\n",
       "      <td>0.309403</td>\n",
       "      <td>00:09</td>\n",
       "    </tr>\n",
       "  </tbody>\n",
       "</table>"
      ],
      "text/plain": [
       "<IPython.core.display.HTML object>"
      ]
     },
     "metadata": {},
     "output_type": "display_data"
    }
   ],
   "source": [
    "learn.fit_one_cycle(10,lr,moms = moms, wd=wd)"
   ]
  },
  {
   "cell_type": "markdown",
   "metadata": {},
   "source": [
    "After training the model for 10 epochs, we see that the accuracy of our model is very low, lets check the prediction on a custom input."
   ]
  },
  {
   "cell_type": "code",
   "execution_count": 39,
   "metadata": {},
   "outputs": [
    {
     "data": {
      "text/plain": [
       "'This airline is so bad! Never flying with them again! # unitedairlines # neveragain xxbos @jetblue how much longer to JFK employees get to know since your garbage causes delay of us . Outrageous xxbos @airline got it . Actually , we got it . xxbos @airline'"
      ]
     },
     "execution_count": 39,
     "metadata": {},
     "output_type": "execute_result"
    }
   ],
   "source": [
    "learn.predict(\"This airline is so bad! Never flying with them again!\", n_words = 40)"
   ]
  },
  {
   "cell_type": "markdown",
   "metadata": {},
   "source": [
    "**The language model doesn't perform too well due to a variety of reasons -**\n",
    "* As the tweets normally have no fixed format and include informal, often incorrect gramatical structures.\n",
    "* Words in tweets often don't follow correct spellings and generic language conventions.\n",
    "* As seen above, figures of speech like 'sarcasm' are difficult to account for."
   ]
  },
  {
   "cell_type": "code",
   "execution_count": 40,
   "metadata": {},
   "outputs": [],
   "source": [
    "learn.save_encoder('fine_tuned_enc')"
   ]
  },
  {
   "cell_type": "markdown",
   "metadata": {},
   "source": [
    "## **Fine tuning our classifier**\n",
    "\n",
    "Now we will repeat the process of creating and training a databrunch. Then train our LSTM language model all over again, but this time to predict the sentiments of the tweet and not just the word/words that follow.\n",
    "This model architecture offers alot of advantage over its traditional language counterpart which uses the conventional bag of words representation for predictions."
   ]
  },
  {
   "cell_type": "markdown",
   "metadata": {},
   "source": [
    "**Splitting into test, train and validation sets**"
   ]
  },
  {
   "cell_type": "code",
   "execution_count": 41,
   "metadata": {},
   "outputs": [],
   "source": [
    "train_valid, test = train_test_split(df_needed, test_size = 0.1)\n",
    "train, valid = train_test_split(train_valid, test_size = 0.1) "
   ]
  },
  {
   "cell_type": "code",
   "execution_count": 42,
   "metadata": {},
   "outputs": [
    {
     "data": {
      "text/html": [],
      "text/plain": [
       "<IPython.core.display.HTML object>"
      ]
     },
     "metadata": {},
     "output_type": "display_data"
    },
    {
     "data": {
      "text/html": [],
      "text/plain": [
       "<IPython.core.display.HTML object>"
      ]
     },
     "metadata": {},
     "output_type": "display_data"
    },
    {
     "data": {
      "text/html": [],
      "text/plain": [
       "<IPython.core.display.HTML object>"
      ]
     },
     "metadata": {},
     "output_type": "display_data"
    }
   ],
   "source": [
    "data_classifier = TextClasDataBunch.from_df(path, train_df = train, valid_df = valid, test_df = test, vocab = data.train_ds.vocab, text_cols = 'text', label_cols = 'airline_sentiment', bs = 24)"
   ]
  },
  {
   "cell_type": "code",
   "execution_count": 43,
   "metadata": {},
   "outputs": [
    {
     "data": {
      "text/html": [
       "<table border=\"1\" class=\"dataframe\">\n",
       "  <thead>\n",
       "    <tr style=\"text-align: right;\">\n",
       "      <th>text</th>\n",
       "      <th>target</th>\n",
       "    </tr>\n",
       "  </thead>\n",
       "  <tbody>\n",
       "    <tr>\n",
       "      <td>xxbos @airline i xxup just xxup asked xxup my xxup boyfriend xxup to xxup prom xxup over xxup the xxup xxunk xxup on xxup flight 494 xxup he xxup said xxup yes xxrep 4 ! xxup best xxup day xxup ever ! ! ! xxup thank u xxup so xxup much xxrep 6 !</td>\n",
       "      <td>positive</td>\n",
       "    </tr>\n",
       "    <tr>\n",
       "      <td>xxbos @airline xxmaj waiting for 3494 xxup ewr - xxup ord , delayed 47 mins . xxmaj might miss xxunk xxup ord - xxup ywg at 6 pm xxup ct . xxmaj any room on xxunk xxup ord - xxup ywg in case i miss xxunk ?</td>\n",
       "      <td>negative</td>\n",
       "    </tr>\n",
       "    <tr>\n",
       "      <td>xxbos @airline xxmaj aww xxmaj thanks xxup aa .. xxup dfw was on xxup gma up here this xxup am .. so i understand .. xxmaj btw xxup a.a is my xxmaj airline when i m able to trv .. xxmaj love you guys . : )</td>\n",
       "      <td>positive</td>\n",
       "    </tr>\n",
       "    <tr>\n",
       "      <td>xxbos @airline our ft xxunk xxup xxunk / xxup dfw ( w / cx to xxup lga ) tomorrow xxmaj cancelled xxmaj flighted , 4 hrs so far waiting for call back . xxmaj what should we do ? xxmaj need to get to nyc</td>\n",
       "      <td>negative</td>\n",
       "    </tr>\n",
       "    <tr>\n",
       "      <td>xxbos @airline yes , i am as well . * * xxup five * * xxup hours xxup on xxup hold , xxup folks . xxmaj can you xxup please tell me if this is typical ? ! xxmaj trying to be understanding here .</td>\n",
       "      <td>negative</td>\n",
       "    </tr>\n",
       "  </tbody>\n",
       "</table>"
      ],
      "text/plain": [
       "<IPython.core.display.HTML object>"
      ]
     },
     "metadata": {},
     "output_type": "display_data"
    }
   ],
   "source": [
    "data_classifier.show_batch()"
   ]
  },
  {
   "cell_type": "code",
   "execution_count": 44,
   "metadata": {},
   "outputs": [],
   "source": [
    "learn = text_classifier_learner(data_classifier, AWD_LSTM, drop_mult = 0.5, model_dir = '/tmp/models')\n",
    "learn.load_encoder('fine_tuned_enc')\n",
    "learn.freeze()"
   ]
  },
  {
   "cell_type": "code",
   "execution_count": 45,
   "metadata": {},
   "outputs": [
    {
     "data": {
      "text/html": [
       "\n",
       "    <div>\n",
       "        <style>\n",
       "            /* Turns off some styling */\n",
       "            progress {\n",
       "                /* gets rid of default border in Firefox and Opera. */\n",
       "                border: none;\n",
       "                /* Needs to be in here for Safari polyfill so background images work as expected. */\n",
       "                background-size: auto;\n",
       "            }\n",
       "            .progress-bar-interrupted, .progress-bar-interrupted::-webkit-progress-bar {\n",
       "                background: #F44336;\n",
       "            }\n",
       "        </style>\n",
       "      <progress value='0' class='' max='1' style='width:300px; height:20px; vertical-align: middle;'></progress>\n",
       "      0.00% [0/1 00:00<00:00]\n",
       "    </div>\n",
       "    \n",
       "<table border=\"1\" class=\"dataframe\">\n",
       "  <thead>\n",
       "    <tr style=\"text-align: left;\">\n",
       "      <th>epoch</th>\n",
       "      <th>train_loss</th>\n",
       "      <th>valid_loss</th>\n",
       "      <th>accuracy</th>\n",
       "      <th>time</th>\n",
       "    </tr>\n",
       "  </thead>\n",
       "  <tbody>\n",
       "  </tbody>\n",
       "</table><p>\n",
       "\n",
       "    <div>\n",
       "        <style>\n",
       "            /* Turns off some styling */\n",
       "            progress {\n",
       "                /* gets rid of default border in Firefox and Opera. */\n",
       "                border: none;\n",
       "                /* Needs to be in here for Safari polyfill so background images work as expected. */\n",
       "                background-size: auto;\n",
       "            }\n",
       "            .progress-bar-interrupted, .progress-bar-interrupted::-webkit-progress-bar {\n",
       "                background: #F44336;\n",
       "            }\n",
       "        </style>\n",
       "      <progress value='84' class='' max='494' style='width:300px; height:20px; vertical-align: middle;'></progress>\n",
       "      17.00% [84/494 00:01<00:08 0.9795]\n",
       "    </div>\n",
       "    "
      ],
      "text/plain": [
       "<IPython.core.display.HTML object>"
      ]
     },
     "metadata": {},
     "output_type": "display_data"
    },
    {
     "name": "stdout",
     "output_type": "stream",
     "text": [
      "LR Finder is complete, type {learner_name}.recorder.plot() to see the graph.\n"
     ]
    }
   ],
   "source": [
    "learn.lr_find()"
   ]
  },
  {
   "cell_type": "code",
   "execution_count": 46,
   "metadata": {},
   "outputs": [
    {
     "data": {
      "image/png": "[encoded data removed]",
      "text/plain": [
       "<Figure size 864x720 with 1 Axes>"
      ]
     },
     "metadata": {},
     "output_type": "display_data"
    }
   ],
   "source": [
    "learn.recorder.plot()"
   ]
  },
  {
   "cell_type": "code",
   "execution_count": 47,
   "metadata": {},
   "outputs": [
    {
     "data": {
      "image/png": "[encoded data removed]",
      "text/plain": [
       "<Figure size 864x720 with 1 Axes>"
      ]
     },
     "metadata": {},
     "output_type": "display_data"
    }
   ],
   "source": [
    "learn.recorder.plot(skip_end = 15)"
   ]
  },
  {
   "cell_type": "markdown",
   "metadata": {},
   "source": [
    "**We train by gradually unfreezing layers and training our model one epoch at a time, in accordance to the suggestions in the fast.ai ULMFiT paper.**"
   ]
  },
  {
   "cell_type": "code",
   "execution_count": 48,
   "metadata": {},
   "outputs": [
    {
     "data": {
      "text/html": [
       "<table border=\"1\" class=\"dataframe\">\n",
       "  <thead>\n",
       "    <tr style=\"text-align: left;\">\n",
       "      <th>epoch</th>\n",
       "      <th>train_loss</th>\n",
       "      <th>valid_loss</th>\n",
       "      <th>accuracy</th>\n",
       "      <th>time</th>\n",
       "    </tr>\n",
       "  </thead>\n",
       "  <tbody>\n",
       "    <tr>\n",
       "      <td>0</td>\n",
       "      <td>0.633960</td>\n",
       "      <td>0.582542</td>\n",
       "      <td>0.785281</td>\n",
       "      <td>00:08</td>\n",
       "    </tr>\n",
       "  </tbody>\n",
       "</table>"
      ],
      "text/plain": [
       "<IPython.core.display.HTML object>"
      ]
     },
     "metadata": {},
     "output_type": "display_data"
    }
   ],
   "source": [
    "lr = 1.0E-03\n",
    "learn.fit_one_cycle(1,lr,moms=moms, wd=wd)"
   ]
  },
  {
   "cell_type": "code",
   "execution_count": 49,
   "metadata": {},
   "outputs": [],
   "source": [
    "learn.save('first')\n",
    "#learn.load('first')"
   ]
  },
  {
   "cell_type": "code",
   "execution_count": 50,
   "metadata": {},
   "outputs": [
    {
     "data": {
      "text/html": [
       "<table border=\"1\" class=\"dataframe\">\n",
       "  <thead>\n",
       "    <tr style=\"text-align: left;\">\n",
       "      <th>epoch</th>\n",
       "      <th>train_loss</th>\n",
       "      <th>valid_loss</th>\n",
       "      <th>accuracy</th>\n",
       "      <th>time</th>\n",
       "    </tr>\n",
       "  </thead>\n",
       "  <tbody>\n",
       "    <tr>\n",
       "      <td>0</td>\n",
       "      <td>0.600984</td>\n",
       "      <td>0.521983</td>\n",
       "      <td>0.789833</td>\n",
       "      <td>00:09</td>\n",
       "    </tr>\n",
       "  </tbody>\n",
       "</table>"
      ],
      "text/plain": [
       "<IPython.core.display.HTML object>"
      ]
     },
     "metadata": {},
     "output_type": "display_data"
    }
   ],
   "source": [
    "learn.freeze_to(-2)\n",
    "lr/=2\n",
    "learn.fit_one_cycle(1,slice(lr/(2.6*4), lr), moms=moms, wd=wd)"
   ]
  },
  {
   "cell_type": "code",
   "execution_count": 51,
   "metadata": {},
   "outputs": [],
   "source": [
    "learn.save('second')\n",
    "#learn.load('second')"
   ]
  },
  {
   "cell_type": "code",
   "execution_count": 52,
   "metadata": {},
   "outputs": [
    {
     "data": {
      "text/html": [
       "<table border=\"1\" class=\"dataframe\">\n",
       "  <thead>\n",
       "    <tr style=\"text-align: left;\">\n",
       "      <th>epoch</th>\n",
       "      <th>train_loss</th>\n",
       "      <th>valid_loss</th>\n",
       "      <th>accuracy</th>\n",
       "      <th>time</th>\n",
       "    </tr>\n",
       "  </thead>\n",
       "  <tbody>\n",
       "    <tr>\n",
       "      <td>0</td>\n",
       "      <td>0.586606</td>\n",
       "      <td>0.525389</td>\n",
       "      <td>0.794385</td>\n",
       "      <td>00:14</td>\n",
       "    </tr>\n",
       "  </tbody>\n",
       "</table>"
      ],
      "text/plain": [
       "<IPython.core.display.HTML object>"
      ]
     },
     "metadata": {},
     "output_type": "display_data"
    }
   ],
   "source": [
    "learn.freeze_to(-3)\n",
    "lr /=2\n",
    "learn.fit_one_cycle(1,slice(lr/(2.6*4), lr), moms=moms, wd=wd)"
   ]
  },
  {
   "cell_type": "code",
   "execution_count": 53,
   "metadata": {},
   "outputs": [
    {
     "data": {
      "text/html": [
       "<table border=\"1\" class=\"dataframe\">\n",
       "  <thead>\n",
       "    <tr style=\"text-align: left;\">\n",
       "      <th>epoch</th>\n",
       "      <th>train_loss</th>\n",
       "      <th>valid_loss</th>\n",
       "      <th>accuracy</th>\n",
       "      <th>time</th>\n",
       "    </tr>\n",
       "  </thead>\n",
       "  <tbody>\n",
       "    <tr>\n",
       "      <td>0</td>\n",
       "      <td>0.530167</td>\n",
       "      <td>0.507883</td>\n",
       "      <td>0.805008</td>\n",
       "      <td>00:19</td>\n",
       "    </tr>\n",
       "    <tr>\n",
       "      <td>1</td>\n",
       "      <td>0.542429</td>\n",
       "      <td>0.500299</td>\n",
       "      <td>0.801973</td>\n",
       "      <td>00:19</td>\n",
       "    </tr>\n",
       "    <tr>\n",
       "      <td>2</td>\n",
       "      <td>0.528971</td>\n",
       "      <td>0.512829</td>\n",
       "      <td>0.802731</td>\n",
       "      <td>00:19</td>\n",
       "    </tr>\n",
       "  </tbody>\n",
       "</table>"
      ],
      "text/plain": [
       "<IPython.core.display.HTML object>"
      ]
     },
     "metadata": {},
     "output_type": "display_data"
    }
   ],
   "source": [
    "learn.unfreeze()\n",
    "lr /=5\n",
    "learn.fit_one_cycle(3, slice(lr/(2.6**4),lr), moms=moms, wd=wd)"
   ]
  },
  {
   "cell_type": "markdown",
   "metadata": {},
   "source": [
    "Our model has now been trained, lets try to get a prediction for the same custom input we gave earlier."
   ]
  },
  {
   "cell_type": "code",
   "execution_count": 54,
   "metadata": {},
   "outputs": [
    {
     "data": {
      "text/plain": [
       "(Category tensor(0), tensor(0), tensor([0.8103, 0.0110, 0.1787]))"
      ]
     },
     "execution_count": 54,
     "metadata": {},
     "output_type": "execute_result"
    }
   ],
   "source": [
    "learn.predict(\"This airline is so bad! Never flying with them again!\")"
   ]
  },
  {
   "cell_type": "markdown",
   "metadata": {},
   "source": [
    "We see that this model performs way better than our conventional language model. And hence we can now evaluate it's performance on the test set."
   ]
  },
  {
   "cell_type": "markdown",
   "metadata": {},
   "source": [
    "### Evaluate performance on test set."
   ]
  },
  {
   "cell_type": "code",
   "execution_count": 56,
   "metadata": {},
   "outputs": [
    {
     "name": "stdout",
     "output_type": "stream",
     "text": [
      "      airline_sentiment  \\\n",
      "2437   negative           \n",
      "2255   negative           \n",
      "12961  negative           \n",
      "5176   positive           \n",
      "7433   neutral            \n",
      "...        ...            \n",
      "4188   negative           \n",
      "7946   neutral            \n",
      "9740   negative           \n",
      "11706  positive           \n",
      "5177   negative           \n",
      "\n",
      "                                                                                                                                             text  \n",
      "2437   @airline What a really GREAT &amp; FLATTERING story about you! You should be very proud :) http://t.co/oKtUkjY92O (via @ParachuteGuy)       \n",
      "2255   Reply to @airline - Doesn't do any good to check outlets preflight when moved to different equipment after boarding due to malfunction.     \n",
      "12961  @airline the best is your 800 message saying to use website and your website is saying you need to call.  If you don't answer, #hardtodo    \n",
      "5176   @airline Gate attendant at McCarran C16 (Vegas to Dallas) went above and beyond. After a long day of frustration it was welcome.            \n",
      "7433   @JetBlue follow for DM please                                                                                                               \n",
      "...                              ...                                                                                                               \n",
      "4188   @airline customer service 👎                                                                                                                 \n",
      "7946   @JetBlue 266 at LGB in Sunny So Cal http://t.co/V015PK7DSi                                                                                  \n",
      "9740   @airline - been on hold for more than 2.5 hours - this after not getting through after 2 hours on hold this morning with no answer - help!  \n",
      "11706  @airline YOU ARE AMAZING!!! YOU ARE THE BEST!!! FOLLOW ME PLEASE 🙏🙏🙏😢😢😢🙏🙏🙏                                                                  \n",
      "5177   @airline please refund my ticket. What a terrible experience. #southwestfail                                                                \n",
      "\n",
      "[1464 rows x 2 columns]\n"
     ]
    }
   ],
   "source": [
    "print(test)"
   ]
  },
  {
   "cell_type": "code",
   "execution_count": 57,
   "metadata": {},
   "outputs": [
    {
     "data": {
      "text/plain": [
       "<matplotlib.axes._subplots.AxesSubplot at 0x7f233698b290>"
      ]
     },
     "execution_count": 57,
     "metadata": {},
     "output_type": "execute_result"
    },
    {
     "data": {
      "image/png": "[encoded data removed]",
      "text/plain": [
       "<Figure size 864x720 with 1 Axes>"
      ]
     },
     "metadata": {},
     "output_type": "display_data"
    }
   ],
   "source": [
    "test['airline_sentiment'].value_counts().plot(kind='bar')"
   ]
  },
  {
   "cell_type": "code",
   "execution_count": 58,
   "metadata": {},
   "outputs": [
    {
     "data": {
      "text/plain": [
       "negative    933\n",
       "neutral     309\n",
       "positive    222\n",
       "Name: airline_sentiment, dtype: int64"
      ]
     },
     "execution_count": 58,
     "metadata": {},
     "output_type": "execute_result"
    }
   ],
   "source": [
    "test['airline_sentiment'].value_counts()"
   ]
  },
  {
   "cell_type": "markdown",
   "metadata": {},
   "source": [
    "**Predicting the sentiments of tweets in the test set**"
   ]
  },
  {
   "cell_type": "code",
   "execution_count": 59,
   "metadata": {},
   "outputs": [
    {
     "name": "stderr",
     "output_type": "stream",
     "text": [
      "/opt/conda/lib/python3.7/site-packages/ipykernel_launcher.py:1: SettingWithCopyWarning: \n",
      "A value is trying to be set on a copy of a slice from a DataFrame.\n",
      "Try using .loc[row_indexer,col_indexer] = value instead\n",
      "\n",
      "See the caveats in the documentation: https://pandas.pydata.org/pandas-docs/stable/user_guide/indexing.html#returning-a-view-versus-a-copy\n",
      "  \"\"\"Entry point for launching an IPython kernel.\n"
     ]
    }
   ],
   "source": [
    "test['predicted']=test['text'].apply(lambda row: str(learn.predict(row)[0]))"
   ]
  },
  {
   "cell_type": "code",
   "execution_count": 60,
   "metadata": {},
   "outputs": [
    {
     "name": "stdout",
     "output_type": "stream",
     "text": [
      "      airline_sentiment  \\\n",
      "2437   negative           \n",
      "2255   negative           \n",
      "12961  negative           \n",
      "5176   positive           \n",
      "7433   neutral            \n",
      "...        ...            \n",
      "4188   negative           \n",
      "7946   neutral            \n",
      "9740   negative           \n",
      "11706  positive           \n",
      "5177   negative           \n",
      "\n",
      "                                                                                                                                             text  \\\n",
      "2437   @airline What a really GREAT &amp; FLATTERING story about you! You should be very proud :) http://t.co/oKtUkjY92O (via @ParachuteGuy)        \n",
      "2255   Reply to @airline - Doesn't do any good to check outlets preflight when moved to different equipment after boarding due to malfunction.      \n",
      "12961  @airline the best is your 800 message saying to use website and your website is saying you need to call.  If you don't answer, #hardtodo     \n",
      "5176   @airline Gate attendant at McCarran C16 (Vegas to Dallas) went above and beyond. After a long day of frustration it was welcome.             \n",
      "7433   @JetBlue follow for DM please                                                                                                                \n",
      "...                              ...                                                                                                                \n",
      "4188   @airline customer service 👎                                                                                                                  \n",
      "7946   @JetBlue 266 at LGB in Sunny So Cal http://t.co/V015PK7DSi                                                                                   \n",
      "9740   @airline - been on hold for more than 2.5 hours - this after not getting through after 2 hours on hold this morning with no answer - help!   \n",
      "11706  @airline YOU ARE AMAZING!!! YOU ARE THE BEST!!! FOLLOW ME PLEASE 🙏🙏🙏😢😢😢🙏🙏🙏                                                                   \n",
      "5177   @airline please refund my ticket. What a terrible experience. #southwestfail                                                                 \n",
      "\n",
      "      predicted  \n",
      "2437   positive  \n",
      "2255   negative  \n",
      "12961  negative  \n",
      "5176   positive  \n",
      "7433   neutral   \n",
      "...        ...   \n",
      "4188   negative  \n",
      "7946   neutral   \n",
      "9740   negative  \n",
      "11706  positive  \n",
      "5177   negative  \n",
      "\n",
      "[1464 rows x 3 columns]\n"
     ]
    }
   ],
   "source": [
    "print(test)"
   ]
  },
  {
   "cell_type": "code",
   "execution_count": 61,
   "metadata": {},
   "outputs": [
    {
     "name": "stdout",
     "output_type": "stream",
     "text": [
      "<class 'pandas.core.frame.DataFrame'>\n",
      "Int64Index: 1464 entries, 2437 to 5177\n",
      "Data columns (total 3 columns):\n",
      " #   Column             Non-Null Count  Dtype \n",
      "---  ------             --------------  ----- \n",
      " 0   airline_sentiment  1464 non-null   object\n",
      " 1   text               1464 non-null   object\n",
      " 2   predicted          1464 non-null   object\n",
      "dtypes: object(3)\n",
      "memory usage: 45.8+ KB\n"
     ]
    }
   ],
   "source": [
    "test.info()"
   ]
  },
  {
   "cell_type": "markdown",
   "metadata": {},
   "source": [
    "## **Evaluation**\n",
    "\n",
    "Evaluation metric used - Accuracy\n",
    "As the predicted sentiments would be either positive, negative or neutral, we can easily compare the predictions to the labels provided in the test set and check the number of times our model makes the correct prediction. "
   ]
  },
  {
   "cell_type": "code",
   "execution_count": 62,
   "metadata": {},
   "outputs": [
    {
     "name": "stdout",
     "output_type": "stream",
     "text": [
      "Test Accuracy:  0.8224043715846995\n"
     ]
    }
   ],
   "source": [
    "print(\"Test Accuracy: \", accuracy_score(test['airline_sentiment'], test['predicted']))"
   ]
  },
  {
   "cell_type": "markdown",
   "metadata": {},
   "source": [
    "**We see that our model gives us an accuracy of over 80% on the test set, which is quite good, considering the kind of data set and its anomalies.**"
   ]
  },
  {
   "cell_type": "code",
   "execution_count": 63,
   "metadata": {},
   "outputs": [
    {
     "data": {
      "text/html": [
       "<div>\n",
       "<style scoped>\n",
       "    .dataframe tbody tr th:only-of-type {\n",
       "        vertical-align: middle;\n",
       "    }\n",
       "\n",
       "    .dataframe tbody tr th {\n",
       "        vertical-align: top;\n",
       "    }\n",
       "\n",
       "    .dataframe thead th {\n",
       "        text-align: right;\n",
       "    }\n",
       "</style>\n",
       "<table border=\"1\" class=\"dataframe\">\n",
       "  <thead>\n",
       "    <tr style=\"text-align: right;\">\n",
       "      <th></th>\n",
       "      <th>airline_sentiment</th>\n",
       "      <th>text</th>\n",
       "      <th>predicted</th>\n",
       "    </tr>\n",
       "  </thead>\n",
       "  <tbody>\n",
       "    <tr>\n",
       "      <th>2437</th>\n",
       "      <td>negative</td>\n",
       "      <td>@airline What a really GREAT &amp;amp; FLATTERING story about you! You should be very proud :) http://t.co/oKtUkjY92O (via @ParachuteGuy)</td>\n",
       "      <td>positive</td>\n",
       "    </tr>\n",
       "    <tr>\n",
       "      <th>2255</th>\n",
       "      <td>negative</td>\n",
       "      <td>Reply to @airline - Doesn't do any good to check outlets preflight when moved to different equipment after boarding due to malfunction.</td>\n",
       "      <td>negative</td>\n",
       "    </tr>\n",
       "    <tr>\n",
       "      <th>12961</th>\n",
       "      <td>negative</td>\n",
       "      <td>@airline the best is your 800 message saying to use website and your website is saying you need to call.  If you don't answer, #hardtodo</td>\n",
       "      <td>negative</td>\n",
       "    </tr>\n",
       "    <tr>\n",
       "      <th>5176</th>\n",
       "      <td>positive</td>\n",
       "      <td>@airline Gate attendant at McCarran C16 (Vegas to Dallas) went above and beyond. After a long day of frustration it was welcome.</td>\n",
       "      <td>positive</td>\n",
       "    </tr>\n",
       "    <tr>\n",
       "      <th>7433</th>\n",
       "      <td>neutral</td>\n",
       "      <td>@JetBlue follow for DM please</td>\n",
       "      <td>neutral</td>\n",
       "    </tr>\n",
       "    <tr>\n",
       "      <th>4640</th>\n",
       "      <td>positive</td>\n",
       "      <td>@airline #netneutrality Nice to see you prioritize Internet traffic to your own streaming service over other web sites!</td>\n",
       "      <td>positive</td>\n",
       "    </tr>\n",
       "    <tr>\n",
       "      <th>584</th>\n",
       "      <td>negative</td>\n",
       "      <td>@airline as a 1k, I'm always hoping for improvement.</td>\n",
       "      <td>positive</td>\n",
       "    </tr>\n",
       "    <tr>\n",
       "      <th>14001</th>\n",
       "      <td>positive</td>\n",
       "      <td>Thank you for sending more details  @airline: They're pretty handy dandy. more info here: http://t.co/FvlxIRh1F1 #LookforwardtoflywithAA</td>\n",
       "      <td>neutral</td>\n",
       "    </tr>\n",
       "    <tr>\n",
       "      <th>749</th>\n",
       "      <td>negative</td>\n",
       "      <td>@airline plus what about food? And taxis?</td>\n",
       "      <td>neutral</td>\n",
       "    </tr>\n",
       "    <tr>\n",
       "      <th>4445</th>\n",
       "      <td>negative</td>\n",
       "      <td>@airline Adding RR number to a @Marriott stay is too hard. Won't take RR number at checkin/out and Marriott phone CS not helpful.</td>\n",
       "      <td>negative</td>\n",
       "    </tr>\n",
       "    <tr>\n",
       "      <th>10889</th>\n",
       "      <td>negative</td>\n",
       "      <td>@airline how about a little help for the two gate agents trying to rebook flight 1707?</td>\n",
       "      <td>negative</td>\n",
       "    </tr>\n",
       "    <tr>\n",
       "      <th>11543</th>\n",
       "      <td>negative</td>\n",
       "      <td>@airline Has the most useless &amp;amp; Rude employees ever at Philadelphia airport never again will I fly with them ! 😤</td>\n",
       "      <td>negative</td>\n",
       "    </tr>\n",
       "    <tr>\n",
       "      <th>9397</th>\n",
       "      <td>negative</td>\n",
       "      <td>@airline im trying to get my dads wheelchair and no one is answering at Dulles.we have tried to call back on.multiple times</td>\n",
       "      <td>negative</td>\n",
       "    </tr>\n",
       "    <tr>\n",
       "      <th>5169</th>\n",
       "      <td>negative</td>\n",
       "      <td>@airline My wife needs help. She is stranded in Chicago and can't get out until Monday. They won't find her bag because volume too high</td>\n",
       "      <td>negative</td>\n",
       "    </tr>\n",
       "    <tr>\n",
       "      <th>3946</th>\n",
       "      <td>negative</td>\n",
       "      <td>@airline A generic form with tons of fields asking for info you already?  Expected more as a premier platinum. Another #servicefail</td>\n",
       "      <td>negative</td>\n",
       "    </tr>\n",
       "    <tr>\n",
       "      <th>14278</th>\n",
       "      <td>positive</td>\n",
       "      <td>@airline Thank you. Good suggestion. I checked and we were not rebooked. We'll keep checking and looking for other flights</td>\n",
       "      <td>negative</td>\n",
       "    </tr>\n",
       "    <tr>\n",
       "      <th>1596</th>\n",
       "      <td>negative</td>\n",
       "      <td>@airline what a long day of delays. Please get us to Dallas tonight!!!!  Fingers crossed!!!  #winterstorm2015 #whichisworsedenordfw.</td>\n",
       "      <td>negative</td>\n",
       "    </tr>\n",
       "    <tr>\n",
       "      <th>5769</th>\n",
       "      <td>positive</td>\n",
       "      <td>@airline I would love to go to the Atlanta show ♥️</td>\n",
       "      <td>neutral</td>\n",
       "    </tr>\n",
       "    <tr>\n",
       "      <th>11423</th>\n",
       "      <td>negative</td>\n",
       "      <td>@airline a $100 @Samsonite - totaled. Not happy. Not at all.</td>\n",
       "      <td>negative</td>\n",
       "    </tr>\n",
       "    <tr>\n",
       "      <th>2708</th>\n",
       "      <td>negative</td>\n",
       "      <td>@airline I had one interview I was the last person what does that mean?</td>\n",
       "      <td>negative</td>\n",
       "    </tr>\n",
       "    <tr>\n",
       "      <th>1890</th>\n",
       "      <td>negative</td>\n",
       "      <td>@airline the hotel you sent us to wouldnt take the voucher. Our flight was delayed, then Cancelled Flightled, then delayed again. 32 hours and counting</td>\n",
       "      <td>negative</td>\n",
       "    </tr>\n",
       "    <tr>\n",
       "      <th>6521</th>\n",
       "      <td>neutral</td>\n",
       "      <td>@airline think you need to follow me for a DM</td>\n",
       "      <td>neutral</td>\n",
       "    </tr>\n",
       "    <tr>\n",
       "      <th>6529</th>\n",
       "      <td>negative</td>\n",
       "      <td>@airline flight 1613 Cancelled Flightled??? My wife is stuck in Phoenix on the way from slc to san\\nThanks a lot southwest!</td>\n",
       "      <td>positive</td>\n",
       "    </tr>\n",
       "    <tr>\n",
       "      <th>4527</th>\n",
       "      <td>neutral</td>\n",
       "      <td>@airline reference #: 261093929756</td>\n",
       "      <td>neutral</td>\n",
       "    </tr>\n",
       "    <tr>\n",
       "      <th>5891</th>\n",
       "      <td>positive</td>\n",
       "      <td>@airline I just received your birthday card.  It was amazing and made me smile with joy.  Nice videos.  Thanks.</td>\n",
       "      <td>positive</td>\n",
       "    </tr>\n",
       "  </tbody>\n",
       "</table>\n",
       "</div>"
      ],
      "text/plain": [
       "      airline_sentiment  \\\n",
       "2437   negative           \n",
       "2255   negative           \n",
       "12961  negative           \n",
       "5176   positive           \n",
       "7433   neutral            \n",
       "4640   positive           \n",
       "584    negative           \n",
       "14001  positive           \n",
       "749    negative           \n",
       "4445   negative           \n",
       "10889  negative           \n",
       "11543  negative           \n",
       "9397   negative           \n",
       "5169   negative           \n",
       "3946   negative           \n",
       "14278  positive           \n",
       "1596   negative           \n",
       "5769   positive           \n",
       "11423  negative           \n",
       "2708   negative           \n",
       "1890   negative           \n",
       "6521   neutral            \n",
       "6529   negative           \n",
       "4527   neutral            \n",
       "5891   positive           \n",
       "\n",
       "                                                                                                                                                          text  \\\n",
       "2437   @airline What a really GREAT &amp; FLATTERING story about you! You should be very proud :) http://t.co/oKtUkjY92O (via @ParachuteGuy)                     \n",
       "2255   Reply to @airline - Doesn't do any good to check outlets preflight when moved to different equipment after boarding due to malfunction.                   \n",
       "12961  @airline the best is your 800 message saying to use website and your website is saying you need to call.  If you don't answer, #hardtodo                  \n",
       "5176   @airline Gate attendant at McCarran C16 (Vegas to Dallas) went above and beyond. After a long day of frustration it was welcome.                          \n",
       "7433   @JetBlue follow for DM please                                                                                                                             \n",
       "4640   @airline #netneutrality Nice to see you prioritize Internet traffic to your own streaming service over other web sites!                                   \n",
       "584    @airline as a 1k, I'm always hoping for improvement.                                                                                                      \n",
       "14001  Thank you for sending more details  @airline: They're pretty handy dandy. more info here: http://t.co/FvlxIRh1F1 #LookforwardtoflywithAA                  \n",
       "749    @airline plus what about food? And taxis?                                                                                                                 \n",
       "4445   @airline Adding RR number to a @Marriott stay is too hard. Won't take RR number at checkin/out and Marriott phone CS not helpful.                         \n",
       "10889  @airline how about a little help for the two gate agents trying to rebook flight 1707?                                                                    \n",
       "11543  @airline Has the most useless &amp; Rude employees ever at Philadelphia airport never again will I fly with them ! 😤                                      \n",
       "9397   @airline im trying to get my dads wheelchair and no one is answering at Dulles.we have tried to call back on.multiple times                               \n",
       "5169   @airline My wife needs help. She is stranded in Chicago and can't get out until Monday. They won't find her bag because volume too high                   \n",
       "3946   @airline A generic form with tons of fields asking for info you already?  Expected more as a premier platinum. Another #servicefail                       \n",
       "14278  @airline Thank you. Good suggestion. I checked and we were not rebooked. We'll keep checking and looking for other flights                                \n",
       "1596   @airline what a long day of delays. Please get us to Dallas tonight!!!!  Fingers crossed!!!  #winterstorm2015 #whichisworsedenordfw.                      \n",
       "5769   @airline I would love to go to the Atlanta show ♥️                                                                                                        \n",
       "11423  @airline a $100 @Samsonite - totaled. Not happy. Not at all.                                                                                              \n",
       "2708   @airline I had one interview I was the last person what does that mean?                                                                                   \n",
       "1890   @airline the hotel you sent us to wouldnt take the voucher. Our flight was delayed, then Cancelled Flightled, then delayed again. 32 hours and counting   \n",
       "6521   @airline think you need to follow me for a DM                                                                                                             \n",
       "6529   @airline flight 1613 Cancelled Flightled??? My wife is stuck in Phoenix on the way from slc to san\\nThanks a lot southwest!                               \n",
       "4527   @airline reference #: 261093929756                                                                                                                        \n",
       "5891   @airline I just received your birthday card.  It was amazing and made me smile with joy.  Nice videos.  Thanks.                                           \n",
       "\n",
       "      predicted  \n",
       "2437   positive  \n",
       "2255   negative  \n",
       "12961  negative  \n",
       "5176   positive  \n",
       "7433   neutral   \n",
       "4640   positive  \n",
       "584    positive  \n",
       "14001  neutral   \n",
       "749    neutral   \n",
       "4445   negative  \n",
       "10889  negative  \n",
       "11543  negative  \n",
       "9397   negative  \n",
       "5169   negative  \n",
       "3946   negative  \n",
       "14278  negative  \n",
       "1596   negative  \n",
       "5769   neutral   \n",
       "11423  negative  \n",
       "2708   negative  \n",
       "1890   negative  \n",
       "6521   neutral   \n",
       "6529   positive  \n",
       "4527   neutral   \n",
       "5891   positive  "
      ]
     },
     "execution_count": 63,
     "metadata": {},
     "output_type": "execute_result"
    }
   ],
   "source": [
    "test.head(25)"
   ]
  },
  {
   "cell_type": "markdown",
   "metadata": {},
   "source": [
    "**Now we plot the confusion matrix to see what the areas of misclassifiacation are and the reason for their existence.**"
   ]
  },
  {
   "cell_type": "code",
   "execution_count": 64,
   "metadata": {},
   "outputs": [],
   "source": [
    "def plot_matrix(y_true, y_pred, classes, normalize = False, title = None, cmap=plt.cm.Blues):\n",
    "    \"\"\"\n",
    "    This function plots the confusion matrix.\n",
    "    Normalization can be applied by setting the Normalize parameter\n",
    "    \"\"\"\n",
    "    \n",
    "    if not title:\n",
    "        if normalize:\n",
    "            title = \"Normalized Confusion Matrix\"\n",
    "        else:\n",
    "            title='Not Normalized Confusion Matrix'\n",
    "            \n",
    "    confusion = confusion_matrix(y_true, y_pred)\n",
    "    \n",
    "    \n",
    "    fig,ax = plt.subplots()\n",
    "    im = ax.imshow(confusion, interpolation='nearest', cmap=cmap)\n",
    "    ax.figure.colorbar(im, ax=ax)\n",
    "    \n",
    "    #display all ticks\n",
    "    ax.set(xticks = np.arange(confusion.shape[1]),\n",
    "          yticks = np.arange(confusion.shape[0]),\n",
    "          xticklabels = classes, yticklabels = classes,\n",
    "          title = title,\n",
    "          ylabel = 'True Label',\n",
    "          xlabel = 'Predicted Label')\n",
    "    \n",
    "    # display the count annotations by looping\n",
    "    dtype = '.2f' if normalize else 'd'\n",
    "    thresh = confusion.max() / 2.\n",
    "    for i in range(confusion.shape[0]):\n",
    "        for j in range(confusion.shape[1]):\n",
    "            ax.text(j,i, format(confusion[i,j],dtype),\n",
    "                   ha = 'center',va = 'center',\n",
    "                   color = 'white' if confusion[i,j]> thresh else 'black')\n",
    "    \n",
    "    \n",
    "    fig.tight_layout()\n",
    "    return ax"
   ]
  },
  {
   "cell_type": "code",
   "execution_count": 65,
   "metadata": {},
   "outputs": [
    {
     "data": {
      "image/png": "[encoded data removed]",
      "text/plain": [
       "<Figure size 864x720 with 2 Axes>"
      ]
     },
     "metadata": {},
     "output_type": "display_data"
    }
   ],
   "source": [
    "plot_matrix(test['airline_sentiment'], test['predicted'], classes=['negative','neutral','positive'], title = 'Airline Tweets Sentiment Analysis Confusion Matrix')\n",
    "plt.show()"
   ]
  },
  {
   "cell_type": "markdown",
   "metadata": {},
   "source": [
    "**True negatives - ** Have a very high prediction accuracy.\n",
    "The model has a tough time classifying neutral tweets, often branding them as negative despite having an overall accuracy of over 80%.\n",
    "\n",
    "But in our dataset, some of the tweets carry negative sentiment aimed at other twitter users instead of the airline. In addition, there are other things to consider with informal writing such as sarcasm, and improper gramatical structures that might en up confusing our model, leading to inaccurate predictions.\n",
    "\n",
    "Moreover some of the negative tweets have been mislabelled in the dataset as neutral and vice versa, which can be another factor hampering the accuracy of our model."
   ]
  },
  {
   "cell_type": "markdown",
   "metadata": {},
   "source": [
    "\n",
    "The overall accuracy is good for true positives, but a vast majority of positive tweets get classified as negative. Lets look into them in more detail."
   ]
  },
  {
   "cell_type": "code",
   "execution_count": 66,
   "metadata": {},
   "outputs": [
    {
     "data": {
      "text/html": [
       "<div>\n",
       "<style scoped>\n",
       "    .dataframe tbody tr th:only-of-type {\n",
       "        vertical-align: middle;\n",
       "    }\n",
       "\n",
       "    .dataframe tbody tr th {\n",
       "        vertical-align: top;\n",
       "    }\n",
       "\n",
       "    .dataframe thead th {\n",
       "        text-align: right;\n",
       "    }\n",
       "</style>\n",
       "<table border=\"1\" class=\"dataframe\">\n",
       "  <thead>\n",
       "    <tr style=\"text-align: right;\">\n",
       "      <th></th>\n",
       "      <th>airline_sentiment</th>\n",
       "      <th>text</th>\n",
       "      <th>predicted</th>\n",
       "    </tr>\n",
       "  </thead>\n",
       "  <tbody>\n",
       "    <tr>\n",
       "      <th>14278</th>\n",
       "      <td>positive</td>\n",
       "      <td>@airline Thank you. Good suggestion. I checked and we were not rebooked. We'll keep checking and looking for other flights</td>\n",
       "      <td>negative</td>\n",
       "    </tr>\n",
       "    <tr>\n",
       "      <th>773</th>\n",
       "      <td>positive</td>\n",
       "      <td>@airline flight ua3576, gate b1. And tell ray I somehow made it on to the 736 flight out of IAH and didn't have to wait for the 917 one. :)</td>\n",
       "      <td>negative</td>\n",
       "    </tr>\n",
       "    <tr>\n",
       "      <th>114</th>\n",
       "      <td>positive</td>\n",
       "      <td>@airline come back to #PHL already. We need you to take us out of this horrible cold. #pleasecomeback http://t.co/gLXFwP6nQH</td>\n",
       "      <td>negative</td>\n",
       "    </tr>\n",
       "    <tr>\n",
       "      <th>8057</th>\n",
       "      <td>positive</td>\n",
       "      <td>@JetBlue totally would have.... but the outside view was even more camera ready haha #EvenMoreSpace #EvenMoreView http://t.co/dXuX6DBfd3</td>\n",
       "      <td>negative</td>\n",
       "    </tr>\n",
       "    <tr>\n",
       "      <th>3664</th>\n",
       "      <td>positive</td>\n",
       "      <td>@airline thank you for getting our daughter home when @airline Cancelled Flightled all their flights to Nashville</td>\n",
       "      <td>negative</td>\n",
       "    </tr>\n",
       "    <tr>\n",
       "      <th>7719</th>\n",
       "      <td>positive</td>\n",
       "      <td>@JetBlue would you say a delay is more likely? Thanks so much.</td>\n",
       "      <td>negative</td>\n",
       "    </tr>\n",
       "    <tr>\n",
       "      <th>5666</th>\n",
       "      <td>positive</td>\n",
       "      <td>@airline shhhh i don't want something else to steal our deal😉</td>\n",
       "      <td>negative</td>\n",
       "    </tr>\n",
       "    <tr>\n",
       "      <th>6800</th>\n",
       "      <td>positive</td>\n",
       "      <td>@JetBlue here you go... Your napkins pretty much say it all! http://t.co/OxY1Jnpjm3</td>\n",
       "      <td>negative</td>\n",
       "    </tr>\n",
       "    <tr>\n",
       "      <th>3385</th>\n",
       "      <td>positive</td>\n",
       "      <td>@airline so sorry. I ended up on US Air flight. Thank you though for getting back to me:)</td>\n",
       "      <td>negative</td>\n",
       "    </tr>\n",
       "    <tr>\n",
       "      <th>5468</th>\n",
       "      <td>positive</td>\n",
       "      <td>@airline Well plane arrived pretty much on time and it's 68 degrees on the ground in Texas. Not much to complain about.</td>\n",
       "      <td>negative</td>\n",
       "    </tr>\n",
       "    <tr>\n",
       "      <th>4253</th>\n",
       "      <td>positive</td>\n",
       "      <td>@airline WiFi onboard 737-800 far superior in pricing and performance (user-perceived bandwidth and Late Flightncy) to recent @GoGo experiences.</td>\n",
       "      <td>negative</td>\n",
       "    </tr>\n",
       "    <tr>\n",
       "      <th>2205</th>\n",
       "      <td>positive</td>\n",
       "      <td>@airline Thanks for the upgrade- please try to get my company to approve more business class travel.</td>\n",
       "      <td>negative</td>\n",
       "    </tr>\n",
       "    <tr>\n",
       "      <th>13502</th>\n",
       "      <td>positive</td>\n",
       "      <td>@airline Not necessary.  I am confident the excellent in-flight staff will make the appropriate report.</td>\n",
       "      <td>negative</td>\n",
       "    </tr>\n",
       "    <tr>\n",
       "      <th>6680</th>\n",
       "      <td>positive</td>\n",
       "      <td>.@airline you've got a mess here at DTW but your staff is doing great.</td>\n",
       "      <td>negative</td>\n",
       "    </tr>\n",
       "    <tr>\n",
       "      <th>12922</th>\n",
       "      <td>positive</td>\n",
       "      <td>@airline yes, it says it should be deliver within 6 hours after pick up line.</td>\n",
       "      <td>negative</td>\n",
       "    </tr>\n",
       "    <tr>\n",
       "      <th>7525</th>\n",
       "      <td>positive</td>\n",
       "      <td>@JetBlue flight to Orlando is unable to serve hot bevies.... So they've made movies and alcohol complimentary. That works</td>\n",
       "      <td>negative</td>\n",
       "    </tr>\n",
       "    <tr>\n",
       "      <th>11886</th>\n",
       "      <td>positive</td>\n",
       "      <td>@airline Believe me, I understand. Flight #2955. Was originally booked for Sunday. Flight was Cancelled Flighted and rescheduled for today.</td>\n",
       "      <td>negative</td>\n",
       "    </tr>\n",
       "    <tr>\n",
       "      <th>13244</th>\n",
       "      <td>positive</td>\n",
       "      <td>@airline thanks! a response is better than nothing at all {ahem, @airline}</td>\n",
       "      <td>negative</td>\n",
       "    </tr>\n",
       "    <tr>\n",
       "      <th>2541</th>\n",
       "      <td>positive</td>\n",
       "      <td>@airline good job at CLE .. TPA on schedule ... 4 to 5 inches of snow ! http://t.co/9tbsJquw41</td>\n",
       "      <td>negative</td>\n",
       "    </tr>\n",
       "    <tr>\n",
       "      <th>9108</th>\n",
       "      <td>positive</td>\n",
       "      <td>@airline We're back at a gate. Opposite of wheels up. Im sure we'll get thete eventually. So thanks.</td>\n",
       "      <td>negative</td>\n",
       "    </tr>\n",
       "    <tr>\n",
       "      <th>3337</th>\n",
       "      <td>positive</td>\n",
       "      <td>@airline kind of cool to run into your boss man at SFO. http://t.co/bm9O2K5X5J</td>\n",
       "      <td>negative</td>\n",
       "    </tr>\n",
       "    <tr>\n",
       "      <th>6373</th>\n",
       "      <td>positive</td>\n",
       "      <td>@airline Once again, I was able to change my flight without any fees... oh and the two free checked bags.  Best airline ever.</td>\n",
       "      <td>negative</td>\n",
       "    </tr>\n",
       "    <tr>\n",
       "      <th>1626</th>\n",
       "      <td>positive</td>\n",
       "      <td>@airline Resolved. Over hour of work on  ground &amp;amp; somehow the system reset itself during takeoff. I appreciate the quick response/service.</td>\n",
       "      <td>negative</td>\n",
       "    </tr>\n",
       "    <tr>\n",
       "      <th>11061</th>\n",
       "      <td>positive</td>\n",
       "      <td>@airline flight 437 PHX&amp;gt;ORD.  Lead FA Bill is the most professional FA I have seen in 9 years of flying USAir. I have no AB cards. :-(</td>\n",
       "      <td>negative</td>\n",
       "    </tr>\n",
       "    <tr>\n",
       "      <th>12912</th>\n",
       "      <td>positive</td>\n",
       "      <td>@airline Flight for tomorrow was Cancelled Flightled. New one booked. Seats taken care of. Just a tweet to commend you all on the service. Thanks!</td>\n",
       "      <td>negative</td>\n",
       "    </tr>\n",
       "  </tbody>\n",
       "</table>\n",
       "</div>"
      ],
      "text/plain": [
       "      airline_sentiment  \\\n",
       "14278  positive           \n",
       "773    positive           \n",
       "114    positive           \n",
       "8057   positive           \n",
       "3664   positive           \n",
       "7719   positive           \n",
       "5666   positive           \n",
       "6800   positive           \n",
       "3385   positive           \n",
       "5468   positive           \n",
       "4253   positive           \n",
       "2205   positive           \n",
       "13502  positive           \n",
       "6680   positive           \n",
       "12922  positive           \n",
       "7525   positive           \n",
       "11886  positive           \n",
       "13244  positive           \n",
       "2541   positive           \n",
       "9108   positive           \n",
       "3337   positive           \n",
       "6373   positive           \n",
       "1626   positive           \n",
       "11061  positive           \n",
       "12912  positive           \n",
       "\n",
       "                                                                                                                                                     text  \\\n",
       "14278  @airline Thank you. Good suggestion. I checked and we were not rebooked. We'll keep checking and looking for other flights                           \n",
       "773    @airline flight ua3576, gate b1. And tell ray I somehow made it on to the 736 flight out of IAH and didn't have to wait for the 917 one. :)          \n",
       "114    @airline come back to #PHL already. We need you to take us out of this horrible cold. #pleasecomeback http://t.co/gLXFwP6nQH                         \n",
       "8057   @JetBlue totally would have.... but the outside view was even more camera ready haha #EvenMoreSpace #EvenMoreView http://t.co/dXuX6DBfd3             \n",
       "3664   @airline thank you for getting our daughter home when @airline Cancelled Flightled all their flights to Nashville                                    \n",
       "7719   @JetBlue would you say a delay is more likely? Thanks so much.                                                                                       \n",
       "5666   @airline shhhh i don't want something else to steal our deal😉                                                                                        \n",
       "6800   @JetBlue here you go... Your napkins pretty much say it all! http://t.co/OxY1Jnpjm3                                                                  \n",
       "3385   @airline so sorry. I ended up on US Air flight. Thank you though for getting back to me:)                                                            \n",
       "5468   @airline Well plane arrived pretty much on time and it's 68 degrees on the ground in Texas. Not much to complain about.                              \n",
       "4253   @airline WiFi onboard 737-800 far superior in pricing and performance (user-perceived bandwidth and Late Flightncy) to recent @GoGo experiences.     \n",
       "2205   @airline Thanks for the upgrade- please try to get my company to approve more business class travel.                                                 \n",
       "13502  @airline Not necessary.  I am confident the excellent in-flight staff will make the appropriate report.                                              \n",
       "6680   .@airline you've got a mess here at DTW but your staff is doing great.                                                                               \n",
       "12922  @airline yes, it says it should be deliver within 6 hours after pick up line.                                                                        \n",
       "7525   @JetBlue flight to Orlando is unable to serve hot bevies.... So they've made movies and alcohol complimentary. That works                            \n",
       "11886  @airline Believe me, I understand. Flight #2955. Was originally booked for Sunday. Flight was Cancelled Flighted and rescheduled for today.          \n",
       "13244  @airline thanks! a response is better than nothing at all {ahem, @airline}                                                                           \n",
       "2541   @airline good job at CLE .. TPA on schedule ... 4 to 5 inches of snow ! http://t.co/9tbsJquw41                                                       \n",
       "9108   @airline We're back at a gate. Opposite of wheels up. Im sure we'll get thete eventually. So thanks.                                                 \n",
       "3337   @airline kind of cool to run into your boss man at SFO. http://t.co/bm9O2K5X5J                                                                       \n",
       "6373   @airline Once again, I was able to change my flight without any fees... oh and the two free checked bags.  Best airline ever.                        \n",
       "1626   @airline Resolved. Over hour of work on  ground &amp; somehow the system reset itself during takeoff. I appreciate the quick response/service.       \n",
       "11061  @airline flight 437 PHX&gt;ORD.  Lead FA Bill is the most professional FA I have seen in 9 years of flying USAir. I have no AB cards. :-(            \n",
       "12912  @airline Flight for tomorrow was Cancelled Flightled. New one booked. Seats taken care of. Just a tweet to commend you all on the service. Thanks!   \n",
       "\n",
       "      predicted  \n",
       "14278  negative  \n",
       "773    negative  \n",
       "114    negative  \n",
       "8057   negative  \n",
       "3664   negative  \n",
       "7719   negative  \n",
       "5666   negative  \n",
       "6800   negative  \n",
       "3385   negative  \n",
       "5468   negative  \n",
       "4253   negative  \n",
       "2205   negative  \n",
       "13502  negative  \n",
       "6680   negative  \n",
       "12922  negative  \n",
       "7525   negative  \n",
       "11886  negative  \n",
       "13244  negative  \n",
       "2541   negative  \n",
       "9108   negative  \n",
       "3337   negative  \n",
       "6373   negative  \n",
       "1626   negative  \n",
       "11061  negative  \n",
       "12912  negative  "
      ]
     },
     "execution_count": 66,
     "metadata": {},
     "output_type": "execute_result"
    }
   ],
   "source": [
    "test.loc[(test['airline_sentiment']=='positive') & (test['predicted']=='negative')]"
   ]
  },
  {
   "cell_type": "markdown",
   "metadata": {},
   "source": [
    "It cannot be immediately pointed out as to what the common thread was amidst all the above tweets that led to their misclassification, but possible causes could be gramatical errors, mis-spellings and deriving inacurate information from hashtags. "
   ]
  },
  {
   "cell_type": "markdown",
   "metadata": {},
   "source": [
    "### Conclusion and scope of improvement\n",
    "\n",
    "In the future it could be a good idea to spend more time on feature engineering to account for improper grammatical structures and mis-spellings while fitting the language model, so that the model hence formulated is more suited to the vocabulary of the language used in informal writings like tweets. "
   ]
  },
  {
   "cell_type": "markdown",
   "metadata": {},
   "source": [
    "Even as humans, it is sometimes hard to judge the sentiment of a given tokenized piece of text and hence our model does a good job in predicting the labels with about 82% accuracy. \n",
    "One possible way of handling this issue could be to make use of a much larger corpus with maximum possible training examples that are likely to be encountered in tweets when developing the initial language model.\n",
    "\n",
    "**Thankyou**"
   ]
  },
  {
   "cell_type": "markdown",
   "metadata": {},
   "source": [
    "\n",
    "*****************************************"
   ]
  }
 ],
 "metadata": {
  "kernelspec": {
   "display_name": "Python 3",
   "language": "python",
   "name": "python3"
  },
  "language_info": {
   "codemirror_mode": {
    "name": "ipython",
    "version": 3
   },
   "file_extension": ".py",
   "mimetype": "text/x-python",
   "name": "python",
   "nbconvert_exporter": "python",
   "pygments_lexer": "ipython3",
   "version": "3.7.3"
  }
 },
 "nbformat": 4,
 "nbformat_minor": 4
}
