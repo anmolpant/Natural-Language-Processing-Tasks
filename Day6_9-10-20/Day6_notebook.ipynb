{
 "cells": [
  {
   "cell_type": "code",
   "execution_count": 1,
   "metadata": {},
   "outputs": [],
   "source": [
    "import spacy\n",
    "model = spacy.load('en_core_web_sm')"
   ]
  },
  {
   "cell_type": "code",
   "execution_count": 2,
   "metadata": {},
   "outputs": [
    {
     "name": "stdout",
     "output_type": "stream",
     "text": [
      "Python and Cython ORG\n",
      "MIT ORG\n",
      "Matthew Honnibal PERSON\n",
      "Ines Montani PERSON\n",
      "NLTK ORG\n",
      "1.0 CARDINAL\n",
      "PyTorch NORP\n",
      "MXNet ORG\n",
      "NER ORG\n",
      "English LANGUAGE\n",
      "German NORP\n",
      "Greek NORP\n",
      "Spanish NORP\n",
      "Portuguese LANGUAGE\n",
      "French NORP\n",
      "Italian NORP\n",
      "Dutch NORP\n",
      "Lithuanian NORP\n",
      "Norwegian NORP\n",
      "NER ORG\n",
      "more than 50 CARDINAL\n"
     ]
    }
   ],
   "source": [
    "text = 'spaCy is an open-source software library for advanced natural language processing, written in the programming languages Python and Cython. The library is published under the MIT license and its main developers are Matthew Honnibal and Ines Montani, the founders of the software company Explosion. Unlike NLTK, which is widely used for teaching and research, spaCy focuses on providing software for production usage. As of version 1.0, spaCy also supports deep learning workflows that allow connecting statistical models trained by popular machine learning libraries like TensorFlow, PyTorch or MXNet through its own machine learning library Thinc.Using Thinc as its backend, spaCy features convolutional neural network models for part-of-speech tagging, dependency parsing, text categorization and named entity recognition (NER). Prebuilt statistical neural network models to perform these task are available for English, German, Greek, Spanish, Portuguese, French, Italian, Dutch, Lithuanian and Norwegian, and there is also a multi-language NER model. Additional support for tokenization for more than 50 languages allows users to train custom models on their own datasets as well.'\n",
    "doc = model(text)\n",
    "\n",
    "for ent in doc.ents:\n",
    "  print(ent.text, ent.label_)"
   ]
  },
  {
   "cell_type": "code",
   "execution_count": 6,
   "metadata": {},
   "outputs": [
    {
     "name": "stdout",
     "output_type": "stream",
     "text": [
      "Vellore Institute of Technology ORG\n",
      "VIT PRODUCT\n",
      "Vellore GPE\n",
      "Tamil Nadu PERSON\n",
      "India GPE\n",
      "1984 DATE\n",
      "Vellore Engineering College ORG\n",
      "G. Viswanathan PERSON\n",
      "20 CARDINAL\n",
      "34 CARDINAL\n",
      "four CARDINAL\n",
      "four CARDINAL\n",
      "Vellore GPE\n",
      "Amravati PERSON\n",
      "Bhopal and Chennai ORG\n"
     ]
    }
   ],
   "source": [
    "#Example 2\n",
    "ex2 = 'Vellore Institute of Technology (VIT) is a private university located in Vellore, Tamil Nadu, India. Founded in 1984, as Vellore Engineering College, by G. Viswanathan, the institution offers 20 undergraduate, 34 postgraduate, four integrated and four research programs. It has campuses in Vellore, Amravati, Bhopal and Chennai.'\n",
    "doc = model(ex2)\n",
    "for ent in doc.ents:\n",
    "    print(ent.text,ent.label_)"
   ]
  },
  {
   "cell_type": "code",
   "execution_count": 3,
   "metadata": {},
   "outputs": [],
   "source": [
    "# ORG, PERSON, GPE, CARDINAL, LOC, DATE, TIME, QUANTITY, PRODUCT, WORK_OF_ART, FAC"
   ]
  },
  {
   "cell_type": "code",
   "execution_count": 7,
   "metadata": {},
   "outputs": [],
   "source": [
    "#Querying\n",
    "locs = [('Omnicom', 'IN', 'New York'),('DDB Needham', 'IN', 'New York'), ('Kaplan Thaler Group', 'IN', 'New York'),(\"anmol\",\"DL\",\"Delhi\"),('BBDO South', 'IN', 'Atlanta'), ('Georgia-Pacific', 'IN', 'Atlanta')]"
   ]
  },
  {
   "cell_type": "code",
   "execution_count": 8,
   "metadata": {},
   "outputs": [
    {
     "name": "stdout",
     "output_type": "stream",
     "text": [
      "['BBDO South', 'Georgia-Pacific']\n"
     ]
    }
   ],
   "source": [
    "query = [e1 for (e1,rel,e2) in locs if e2==\"Atlanta\"]\n",
    "print(query)"
   ]
  },
  {
   "cell_type": "code",
   "execution_count": 10,
   "metadata": {},
   "outputs": [
    {
     "name": "stdout",
     "output_type": "stream",
     "text": [
      "['anmol']\n"
     ]
    }
   ],
   "source": [
    "query2 = [e1 for (e1,rel,e2) in locs if e2==\"Delhi\"]\n",
    "print(query2)"
   ]
  },
  {
   "cell_type": "code",
   "execution_count": null,
   "metadata": {},
   "outputs": [],
   "source": []
  }
 ],
 "metadata": {
  "kernelspec": {
   "display_name": "CondaEnv",
   "language": "python",
   "name": "condaenv"
  },
  "language_info": {
   "codemirror_mode": {
    "name": "ipython",
    "version": 3
   },
   "file_extension": ".py",
   "mimetype": "text/x-python",
   "name": "python",
   "nbconvert_exporter": "python",
   "pygments_lexer": "ipython3",
   "version": "3.7.4"
  }
 },
 "nbformat": 4,
 "nbformat_minor": 4
}
